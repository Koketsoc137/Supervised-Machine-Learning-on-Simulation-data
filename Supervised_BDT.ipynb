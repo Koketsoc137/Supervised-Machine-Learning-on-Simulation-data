{
 "cells": [
  {
   "cell_type": "markdown",
   "metadata": {
    "colab_type": "text",
    "id": "ZuTqxQ2tzyEF",
    "tags": []
   },
   "source": [
    "### <font color=blue> Import relevant libraries </font>"
   ]
  },
  {
   "cell_type": "markdown",
   "metadata": {
    "tags": []
   },
   "source": [
    "The purpose of this hands-on session is to show an example of the classification (anomaly detection) in the high energy physics.\n",
    "The principle and methodology used in this example is not restricted in HEP only. It can be used for all the 2-category (good-bad, signal-background) classification.\n",
    "\n",
    "Signal: the events you want to keep\n",
    "Background: the events you want to discard\n",
    "Target: separate the signal and background as much as possible, keep most of the signal and reject most of the background.\n",
    "Of course this cannot be 100% archieved, let's see what ML can do.\n"
   ]
  },
  {
   "cell_type": "code",
   "execution_count": 1,
   "metadata": {
    "colab": {},
    "colab_type": "code",
    "id": "az9ejysvzREO",
    "tags": []
   },
   "outputs": [],
   "source": [
    "import collections\n",
    "import pandas as pd\n",
    "import numpy as np\n",
    "import seaborn as sns\n",
    "import matplotlib.font_manager\n",
    "from scipy.stats import ks_2samp\n",
    "import matplotlib.pyplot as plt\n",
    "from sklearn.utils import shuffle\n",
    "from sklearn.model_selection import train_test_split\n"
   ]
  },
  {
   "cell_type": "code",
   "execution_count": 2,
   "metadata": {
    "colab": {
     "base_uri": "https://localhost:8080/",
     "height": 125
    },
    "colab_type": "code",
    "executionInfo": {
     "elapsed": 63748,
     "status": "ok",
     "timestamp": 1575537411437,
     "user": {
      "displayName": "阮熙峰",
      "photoUrl": "https://lh3.googleusercontent.com/a-/AAuE7mD85QBmunE7h4axv5gV6qvGRZAbaG2Wns44spqY=s64",
      "userId": "17399476974750092519"
     },
     "user_tz": -120
    },
    "id": "7q-O_iuWd-6E",
    "outputId": "c3eb4f0f-ceb0-4d2f-9589-58829f25deea",
    "tags": []
   },
   "outputs": [],
   "source": [
    "#from google.colab import drive\n",
    "#drive.mount('/content/drive')"
   ]
  },
  {
   "cell_type": "markdown",
   "metadata": {
    "colab_type": "text",
    "id": "nR7EgbdY4988",
    "tags": []
   },
   "source": [
    "#Skip this #Run, click the link, sign in Google, then copy back the link, so that you can access your own datasets"
   ]
  },
  {
   "cell_type": "code",
   "execution_count": 3,
   "metadata": {
    "colab": {
     "base_uri": "https://localhost:8080/",
     "height": 34
    },
    "colab_type": "code",
    "executionInfo": {
     "elapsed": 4929,
     "status": "ok",
     "timestamp": 1575537433622,
     "user": {
      "displayName": "阮熙峰",
      "photoUrl": "https://lh3.googleusercontent.com/a-/AAuE7mD85QBmunE7h4axv5gV6qvGRZAbaG2Wns44spqY=s64",
      "userId": "17399476974750092519"
     },
     "user_tz": -120
    },
    "id": "OGFjpuYW5NlP",
    "jupyter": {
     "source_hidden": true
    },
    "outputId": "8852fb79-ace9-4b71-f57e-97ad21528d13",
    "tags": []
   },
   "outputs": [],
   "source": [
    "#ls \n"
   ]
  },
  {
   "cell_type": "markdown",
   "metadata": {
    "colab_type": "text",
    "id": "VYadlgJl5zps",
    "tags": []
   },
   "source": [
    "#You should see drive/ then that means you can access the datasets in your google drive"
   ]
  },
  {
   "cell_type": "markdown",
   "metadata": {
    "colab_type": "text",
    "id": "v6zKJn230K7H"
   },
   "source": [
    "## <font color=blue> Read in Data </font>\n",
    "read in data from csv or txt file (comma separated values, can be read by MS excel as well)\n"
   ]
  },
  {
   "cell_type": "code",
   "execution_count": 4,
   "metadata": {
    "colab": {
     "base_uri": "https://localhost:8080/",
     "height": 34
    },
    "colab_type": "code",
    "executionInfo": {
     "elapsed": 32088,
     "status": "ok",
     "timestamp": 1575538251771,
     "user": {
      "displayName": "阮熙峰",
      "photoUrl": "https://lh3.googleusercontent.com/a-/AAuE7mD85QBmunE7h4axv5gV6qvGRZAbaG2Wns44spqY=s64",
      "userId": "17399476974750092519"
     },
     "user_tz": -120
    },
    "id": "aLRJ6viZd5Ed",
    "outputId": "d72d3fa1-b1ac-49ad-f259-27bcb29e850c"
   },
   "outputs": [
    {
     "data": {
      "text/plain": [
       "((5451, 104), (87952, 104))"
      ]
     },
     "execution_count": 4,
     "metadata": {},
     "output_type": "execute_result"
    }
   ],
   "source": [
    "signal = pd.read_csv('/Users/mukesh/Box/ML-xifeng/Signal.txt')\n",
    "background = pd.read_csv('/Users/mukesh/Box/ML-xifeng/Background.txt')\n",
    "\n",
    "signal.shape, background.shape"
   ]
  },
  {
   "cell_type": "markdown",
   "metadata": {
    "colab_type": "text",
    "id": "NnWmXSg8Ie9l"
   },
   "source": [
    "The signal has 5.4k rows, background has 88k rows (events) and 104 columns"
   ]
  },
  {
   "cell_type": "markdown",
   "metadata": {
    "colab_type": "text",
    "id": "eSJzZqJh5rb1"
   },
   "source": [
    "## <font color=blue> Data Exploration </font> \n",
    "##### After reading in the data, it is normal to view it, get a statistical description, check for duplicates, missing values, NaNs etc. So we do exactly that here."
   ]
  },
  {
   "cell_type": "code",
   "execution_count": 5,
   "metadata": {
    "colab": {
     "base_uri": "https://localhost:8080/",
     "height": 301
    },
    "colab_type": "code",
    "executionInfo": {
     "elapsed": 1020,
     "status": "ok",
     "timestamp": 1575538288610,
     "user": {
      "displayName": "阮熙峰",
      "photoUrl": "https://lh3.googleusercontent.com/a-/AAuE7mD85QBmunE7h4axv5gV6qvGRZAbaG2Wns44spqY=s64",
      "userId": "17399476974750092519"
     },
     "user_tz": -120
    },
    "id": "sk8vGPaNHepk",
    "outputId": "05672527-07a0-495f-84fc-9e720b170454"
   },
   "outputs": [
    {
     "data": {
      "text/html": [
       "<div>\n",
       "<style scoped>\n",
       "    .dataframe tbody tr th:only-of-type {\n",
       "        vertical-align: middle;\n",
       "    }\n",
       "\n",
       "    .dataframe tbody tr th {\n",
       "        vertical-align: top;\n",
       "    }\n",
       "\n",
       "    .dataframe thead th {\n",
       "        text-align: right;\n",
       "    }\n",
       "</style>\n",
       "<table border=\"1\" class=\"dataframe\">\n",
       "  <thead>\n",
       "    <tr style=\"text-align: right;\">\n",
       "      <th></th>\n",
       "      <th>Row</th>\n",
       "      <th>ldvtxsump</th>\n",
       "      <th>subvtxsum</th>\n",
       "      <th>dsumpt2</th>\n",
       "      <th>npvx</th>\n",
       "      <th>mu</th>\n",
       "      <th>weight</th>\n",
       "      <th>metsig</th>\n",
       "      <th>met</th>\n",
       "      <th>tmet</th>\n",
       "      <th>...</th>\n",
       "      <th>sjpt</th>\n",
       "      <th>dphij1met</th>\n",
       "      <th>dphij1met.1</th>\n",
       "      <th>dphisjmet</th>\n",
       "      <th>pthard</th>\n",
       "      <th>pthard20</th>\n",
       "      <th>run</th>\n",
       "      <th>event</th>\n",
       "      <th>lb</th>\n",
       "      <th>Target</th>\n",
       "    </tr>\n",
       "  </thead>\n",
       "  <tbody>\n",
       "    <tr>\n",
       "      <th>0</th>\n",
       "      <td>2</td>\n",
       "      <td>16.870452</td>\n",
       "      <td>14.312972</td>\n",
       "      <td>2.557481</td>\n",
       "      <td>5</td>\n",
       "      <td>18</td>\n",
       "      <td>8.084000e-10</td>\n",
       "      <td>2.660426</td>\n",
       "      <td>43.365384</td>\n",
       "      <td>24.603552</td>\n",
       "      <td>...</td>\n",
       "      <td>0.000000</td>\n",
       "      <td>1.131433</td>\n",
       "      <td>-1.000000</td>\n",
       "      <td>-1.000000</td>\n",
       "      <td>47.275539</td>\n",
       "      <td>47.275537</td>\n",
       "      <td>284500</td>\n",
       "      <td>737</td>\n",
       "      <td>19</td>\n",
       "      <td>1</td>\n",
       "    </tr>\n",
       "    <tr>\n",
       "      <th>1</th>\n",
       "      <td>3</td>\n",
       "      <td>260.546720</td>\n",
       "      <td>92.251968</td>\n",
       "      <td>168.294750</td>\n",
       "      <td>15</td>\n",
       "      <td>18</td>\n",
       "      <td>8.065000e-10</td>\n",
       "      <td>2.662552</td>\n",
       "      <td>44.565367</td>\n",
       "      <td>35.416921</td>\n",
       "      <td>...</td>\n",
       "      <td>0.000000</td>\n",
       "      <td>3.085110</td>\n",
       "      <td>-1.000000</td>\n",
       "      <td>-1.000000</td>\n",
       "      <td>42.386933</td>\n",
       "      <td>42.386936</td>\n",
       "      <td>284500</td>\n",
       "      <td>1266</td>\n",
       "      <td>19</td>\n",
       "      <td>1</td>\n",
       "    </tr>\n",
       "    <tr>\n",
       "      <th>2</th>\n",
       "      <td>5</td>\n",
       "      <td>18765.076000</td>\n",
       "      <td>83.766311</td>\n",
       "      <td>18681.309000</td>\n",
       "      <td>13</td>\n",
       "      <td>26</td>\n",
       "      <td>3.847000e-10</td>\n",
       "      <td>5.038403</td>\n",
       "      <td>130.763900</td>\n",
       "      <td>99.355959</td>\n",
       "      <td>...</td>\n",
       "      <td>0.000000</td>\n",
       "      <td>2.859739</td>\n",
       "      <td>2.859739</td>\n",
       "      <td>-1.000000</td>\n",
       "      <td>136.525650</td>\n",
       "      <td>136.525650</td>\n",
       "      <td>284500</td>\n",
       "      <td>352</td>\n",
       "      <td>27</td>\n",
       "      <td>1</td>\n",
       "    </tr>\n",
       "    <tr>\n",
       "      <th>3</th>\n",
       "      <td>8</td>\n",
       "      <td>10.168809</td>\n",
       "      <td>93.514030</td>\n",
       "      <td>-83.345220</td>\n",
       "      <td>13</td>\n",
       "      <td>18</td>\n",
       "      <td>8.191000e-10</td>\n",
       "      <td>5.310796</td>\n",
       "      <td>101.883520</td>\n",
       "      <td>53.358470</td>\n",
       "      <td>...</td>\n",
       "      <td>0.000000</td>\n",
       "      <td>3.034222</td>\n",
       "      <td>3.034222</td>\n",
       "      <td>-1.000000</td>\n",
       "      <td>100.272850</td>\n",
       "      <td>100.272860</td>\n",
       "      <td>284500</td>\n",
       "      <td>750</td>\n",
       "      <td>19</td>\n",
       "      <td>1</td>\n",
       "    </tr>\n",
       "    <tr>\n",
       "      <th>4</th>\n",
       "      <td>9</td>\n",
       "      <td>90.716598</td>\n",
       "      <td>173.481110</td>\n",
       "      <td>-82.764510</td>\n",
       "      <td>13</td>\n",
       "      <td>28</td>\n",
       "      <td>6.457000e-10</td>\n",
       "      <td>3.311737</td>\n",
       "      <td>49.094453</td>\n",
       "      <td>24.703150</td>\n",
       "      <td>...</td>\n",
       "      <td>29.840523</td>\n",
       "      <td>3.120152</td>\n",
       "      <td>-1.000000</td>\n",
       "      <td>3.120152</td>\n",
       "      <td>59.336023</td>\n",
       "      <td>59.336022</td>\n",
       "      <td>284500</td>\n",
       "      <td>1739</td>\n",
       "      <td>29</td>\n",
       "      <td>1</td>\n",
       "    </tr>\n",
       "  </tbody>\n",
       "</table>\n",
       "<p>5 rows × 104 columns</p>\n",
       "</div>"
      ],
      "text/plain": [
       "   Row     ldvtxsump   subvtxsum       dsumpt2  npvx  mu        weight  \\\n",
       "0    2     16.870452   14.312972      2.557481     5  18  8.084000e-10   \n",
       "1    3    260.546720   92.251968    168.294750    15  18  8.065000e-10   \n",
       "2    5  18765.076000   83.766311  18681.309000    13  26  3.847000e-10   \n",
       "3    8     10.168809   93.514030    -83.345220    13  18  8.191000e-10   \n",
       "4    9     90.716598  173.481110    -82.764510    13  28  6.457000e-10   \n",
       "\n",
       "     metsig         met       tmet  ...       sjpt  dphij1met  dphij1met.1  \\\n",
       "0  2.660426   43.365384  24.603552  ...   0.000000   1.131433    -1.000000   \n",
       "1  2.662552   44.565367  35.416921  ...   0.000000   3.085110    -1.000000   \n",
       "2  5.038403  130.763900  99.355959  ...   0.000000   2.859739     2.859739   \n",
       "3  5.310796  101.883520  53.358470  ...   0.000000   3.034222     3.034222   \n",
       "4  3.311737   49.094453  24.703150  ...  29.840523   3.120152    -1.000000   \n",
       "\n",
       "   dphisjmet      pthard    pthard20     run  event  lb  Target  \n",
       "0  -1.000000   47.275539   47.275537  284500    737  19       1  \n",
       "1  -1.000000   42.386933   42.386936  284500   1266  19       1  \n",
       "2  -1.000000  136.525650  136.525650  284500    352  27       1  \n",
       "3  -1.000000  100.272850  100.272860  284500    750  19       1  \n",
       "4   3.120152   59.336023   59.336022  284500   1739  29       1  \n",
       "\n",
       "[5 rows x 104 columns]"
      ]
     },
     "execution_count": 5,
     "metadata": {},
     "output_type": "execute_result"
    }
   ],
   "source": [
    "signal.head()"
   ]
  },
  {
   "cell_type": "code",
   "execution_count": 6,
   "metadata": {
    "colab": {
     "base_uri": "https://localhost:8080/",
     "height": 301
    },
    "colab_type": "code",
    "executionInfo": {
     "elapsed": 1291,
     "status": "ok",
     "timestamp": 1575538293153,
     "user": {
      "displayName": "阮熙峰",
      "photoUrl": "https://lh3.googleusercontent.com/a-/AAuE7mD85QBmunE7h4axv5gV6qvGRZAbaG2Wns44spqY=s64",
      "userId": "17399476974750092519"
     },
     "user_tz": -120
    },
    "id": "y-o1jdg6HnZw",
    "outputId": "eba684d8-dc9f-4d0e-c152-48bf2706c631"
   },
   "outputs": [
    {
     "data": {
      "text/html": [
       "<div>\n",
       "<style scoped>\n",
       "    .dataframe tbody tr th:only-of-type {\n",
       "        vertical-align: middle;\n",
       "    }\n",
       "\n",
       "    .dataframe tbody tr th {\n",
       "        vertical-align: top;\n",
       "    }\n",
       "\n",
       "    .dataframe thead th {\n",
       "        text-align: right;\n",
       "    }\n",
       "</style>\n",
       "<table border=\"1\" class=\"dataframe\">\n",
       "  <thead>\n",
       "    <tr style=\"text-align: right;\">\n",
       "      <th></th>\n",
       "      <th>Row</th>\n",
       "      <th>ldvtxsump</th>\n",
       "      <th>subvtxsum</th>\n",
       "      <th>dsumpt2</th>\n",
       "      <th>npvx</th>\n",
       "      <th>mu</th>\n",
       "      <th>weight</th>\n",
       "      <th>metsig</th>\n",
       "      <th>met</th>\n",
       "      <th>tmet</th>\n",
       "      <th>...</th>\n",
       "      <th>sjpt</th>\n",
       "      <th>dphij1met</th>\n",
       "      <th>dphij1met.1</th>\n",
       "      <th>dphisjmet</th>\n",
       "      <th>pthard</th>\n",
       "      <th>pthard20</th>\n",
       "      <th>run</th>\n",
       "      <th>event</th>\n",
       "      <th>lb</th>\n",
       "      <th>Target</th>\n",
       "    </tr>\n",
       "  </thead>\n",
       "  <tbody>\n",
       "    <tr>\n",
       "      <th>0</th>\n",
       "      <td>5</td>\n",
       "      <td>68.171386</td>\n",
       "      <td>116.299170</td>\n",
       "      <td>-48.127790</td>\n",
       "      <td>15</td>\n",
       "      <td>19</td>\n",
       "      <td>1</td>\n",
       "      <td>3.742974</td>\n",
       "      <td>46.865086</td>\n",
       "      <td>0</td>\n",
       "      <td>...</td>\n",
       "      <td>0.00000</td>\n",
       "      <td>1.002007</td>\n",
       "      <td>-1.000000</td>\n",
       "      <td>-1.000000</td>\n",
       "      <td>58.102621</td>\n",
       "      <td>58.102621</td>\n",
       "      <td>276262</td>\n",
       "      <td>745880.0</td>\n",
       "      <td>72</td>\n",
       "      <td>0</td>\n",
       "    </tr>\n",
       "    <tr>\n",
       "      <th>1</th>\n",
       "      <td>50</td>\n",
       "      <td>70.434349</td>\n",
       "      <td>53.082145</td>\n",
       "      <td>17.352203</td>\n",
       "      <td>14</td>\n",
       "      <td>19</td>\n",
       "      <td>1</td>\n",
       "      <td>2.163851</td>\n",
       "      <td>24.719682</td>\n",
       "      <td>0</td>\n",
       "      <td>...</td>\n",
       "      <td>0.00000</td>\n",
       "      <td>2.972754</td>\n",
       "      <td>2.972754</td>\n",
       "      <td>-1.000000</td>\n",
       "      <td>25.849017</td>\n",
       "      <td>25.849018</td>\n",
       "      <td>276262</td>\n",
       "      <td>52243990.0</td>\n",
       "      <td>125</td>\n",
       "      <td>0</td>\n",
       "    </tr>\n",
       "    <tr>\n",
       "      <th>2</th>\n",
       "      <td>76</td>\n",
       "      <td>129.635780</td>\n",
       "      <td>304.366300</td>\n",
       "      <td>-174.730500</td>\n",
       "      <td>13</td>\n",
       "      <td>19</td>\n",
       "      <td>1</td>\n",
       "      <td>4.012014</td>\n",
       "      <td>50.367399</td>\n",
       "      <td>0</td>\n",
       "      <td>...</td>\n",
       "      <td>21.82738</td>\n",
       "      <td>3.047049</td>\n",
       "      <td>-1.000000</td>\n",
       "      <td>3.047049</td>\n",
       "      <td>63.869550</td>\n",
       "      <td>63.869549</td>\n",
       "      <td>276262</td>\n",
       "      <td>31795530.0</td>\n",
       "      <td>105</td>\n",
       "      <td>0</td>\n",
       "    </tr>\n",
       "    <tr>\n",
       "      <th>3</th>\n",
       "      <td>109</td>\n",
       "      <td>8.733752</td>\n",
       "      <td>80.565513</td>\n",
       "      <td>-71.831760</td>\n",
       "      <td>15</td>\n",
       "      <td>17</td>\n",
       "      <td>1</td>\n",
       "      <td>2.320896</td>\n",
       "      <td>21.204170</td>\n",
       "      <td>0</td>\n",
       "      <td>...</td>\n",
       "      <td>0.00000</td>\n",
       "      <td>1.685184</td>\n",
       "      <td>-1.000000</td>\n",
       "      <td>-1.000000</td>\n",
       "      <td>20.478816</td>\n",
       "      <td>20.478817</td>\n",
       "      <td>276262</td>\n",
       "      <td>293559130.0</td>\n",
       "      <td>295</td>\n",
       "      <td>0</td>\n",
       "    </tr>\n",
       "    <tr>\n",
       "      <th>4</th>\n",
       "      <td>172</td>\n",
       "      <td>1.933064</td>\n",
       "      <td>80.712577</td>\n",
       "      <td>-78.779510</td>\n",
       "      <td>17</td>\n",
       "      <td>18</td>\n",
       "      <td>1</td>\n",
       "      <td>2.123608</td>\n",
       "      <td>19.831506</td>\n",
       "      <td>0</td>\n",
       "      <td>...</td>\n",
       "      <td>0.00000</td>\n",
       "      <td>0.644225</td>\n",
       "      <td>-1.000000</td>\n",
       "      <td>-1.000000</td>\n",
       "      <td>17.078363</td>\n",
       "      <td>17.078363</td>\n",
       "      <td>276262</td>\n",
       "      <td>117978410.0</td>\n",
       "      <td>168</td>\n",
       "      <td>0</td>\n",
       "    </tr>\n",
       "  </tbody>\n",
       "</table>\n",
       "<p>5 rows × 104 columns</p>\n",
       "</div>"
      ],
      "text/plain": [
       "   Row   ldvtxsump   subvtxsum     dsumpt2  npvx  mu  weight    metsig  \\\n",
       "0    5   68.171386  116.299170  -48.127790    15  19       1  3.742974   \n",
       "1   50   70.434349   53.082145   17.352203    14  19       1  2.163851   \n",
       "2   76  129.635780  304.366300 -174.730500    13  19       1  4.012014   \n",
       "3  109    8.733752   80.565513  -71.831760    15  17       1  2.320896   \n",
       "4  172    1.933064   80.712577  -78.779510    17  18       1  2.123608   \n",
       "\n",
       "         met  tmet  ...      sjpt  dphij1met  dphij1met.1  dphisjmet  \\\n",
       "0  46.865086     0  ...   0.00000   1.002007    -1.000000  -1.000000   \n",
       "1  24.719682     0  ...   0.00000   2.972754     2.972754  -1.000000   \n",
       "2  50.367399     0  ...  21.82738   3.047049    -1.000000   3.047049   \n",
       "3  21.204170     0  ...   0.00000   1.685184    -1.000000  -1.000000   \n",
       "4  19.831506     0  ...   0.00000   0.644225    -1.000000  -1.000000   \n",
       "\n",
       "      pthard   pthard20     run        event   lb  Target  \n",
       "0  58.102621  58.102621  276262     745880.0   72       0  \n",
       "1  25.849017  25.849018  276262   52243990.0  125       0  \n",
       "2  63.869550  63.869549  276262   31795530.0  105       0  \n",
       "3  20.478816  20.478817  276262  293559130.0  295       0  \n",
       "4  17.078363  17.078363  276262  117978410.0  168       0  \n",
       "\n",
       "[5 rows x 104 columns]"
      ]
     },
     "execution_count": 6,
     "metadata": {},
     "output_type": "execute_result"
    }
   ],
   "source": [
    "background.head()"
   ]
  },
  {
   "cell_type": "markdown",
   "metadata": {
    "colab_type": "text",
    "id": "qTB99xHTJkmw"
   },
   "source": [
    "## <font color=blue> Duplicates </font>\n",
    "Remove any lines which are totally identical"
   ]
  },
  {
   "cell_type": "code",
   "execution_count": 7,
   "metadata": {
    "colab": {
     "base_uri": "https://localhost:8080/",
     "height": 230
    },
    "colab_type": "code",
    "executionInfo": {
     "elapsed": 1445,
     "status": "ok",
     "timestamp": 1575538994626,
     "user": {
      "displayName": "阮熙峰",
      "photoUrl": "https://lh3.googleusercontent.com/a-/AAuE7mD85QBmunE7h4axv5gV6qvGRZAbaG2Wns44spqY=s64",
      "userId": "17399476974750092519"
     },
     "user_tz": -120
    },
    "id": "fWrhvtCeJjhx",
    "outputId": "0c0b8e38-a0b2-42c6-921c-eac00761432f"
   },
   "outputs": [
    {
     "data": {
      "text/plain": [
       "0       False\n",
       "1       False\n",
       "2       False\n",
       "3       False\n",
       "4       False\n",
       "        ...  \n",
       "5446    False\n",
       "5447    False\n",
       "5448    False\n",
       "5449    False\n",
       "5450    False\n",
       "Length: 5451, dtype: bool"
      ]
     },
     "execution_count": 7,
     "metadata": {},
     "output_type": "execute_result"
    }
   ],
   "source": [
    "signal.duplicated(keep=False)"
   ]
  },
  {
   "cell_type": "code",
   "execution_count": 8,
   "metadata": {
    "colab": {
     "base_uri": "https://localhost:8080/",
     "height": 230
    },
    "colab_type": "code",
    "executionInfo": {
     "elapsed": 27710,
     "status": "ok",
     "timestamp": 1575539022294,
     "user": {
      "displayName": "阮熙峰",
      "photoUrl": "https://lh3.googleusercontent.com/a-/AAuE7mD85QBmunE7h4axv5gV6qvGRZAbaG2Wns44spqY=s64",
      "userId": "17399476974750092519"
     },
     "user_tz": -120
    },
    "id": "wX7aLpZgJ8W-",
    "outputId": "747af2bf-4584-464d-b99c-77a12aa61d47"
   },
   "outputs": [
    {
     "data": {
      "text/plain": [
       "0        False\n",
       "1        False\n",
       "2        False\n",
       "3        False\n",
       "4        False\n",
       "         ...  \n",
       "87947    False\n",
       "87948    False\n",
       "87949    False\n",
       "87950    False\n",
       "87951    False\n",
       "Length: 87952, dtype: bool"
      ]
     },
     "execution_count": 8,
     "metadata": {},
     "output_type": "execute_result"
    }
   ],
   "source": [
    "background.duplicated(keep=False)"
   ]
  },
  {
   "cell_type": "markdown",
   "metadata": {
    "colab_type": "text",
    "id": "RwhH05dCTH02"
   },
   "source": [
    "Removed duplicated events (rows)"
   ]
  },
  {
   "cell_type": "markdown",
   "metadata": {
    "colab_type": "text",
    "id": "AHg-CmqjKE_4"
   },
   "source": [
    "## <font color=blue> Missing Values </font>\n",
    "Using the isnull() function we scan through the whole data set for any missing values. An output of '**False**' means we don't have missing values and an output of '**True**' means we do."
   ]
  },
  {
   "cell_type": "code",
   "execution_count": 9,
   "metadata": {
    "colab": {
     "base_uri": "https://localhost:8080/",
     "height": 34
    },
    "colab_type": "code",
    "executionInfo": {
     "elapsed": 1213,
     "status": "ok",
     "timestamp": 1575539023544,
     "user": {
      "displayName": "阮熙峰",
      "photoUrl": "https://lh3.googleusercontent.com/a-/AAuE7mD85QBmunE7h4axv5gV6qvGRZAbaG2Wns44spqY=s64",
      "userId": "17399476974750092519"
     },
     "user_tz": -120
    },
    "id": "KfqujTIUHG4-",
    "outputId": "4804fe8a-cba3-4602-8b5f-925ae6a18d95"
   },
   "outputs": [
    {
     "data": {
      "text/plain": [
       "False"
      ]
     },
     "execution_count": 9,
     "metadata": {},
     "output_type": "execute_result"
    }
   ],
   "source": [
    "signal.isnull().values.any()"
   ]
  },
  {
   "cell_type": "code",
   "execution_count": 10,
   "metadata": {
    "colab": {
     "base_uri": "https://localhost:8080/",
     "height": 34
    },
    "colab_type": "code",
    "executionInfo": {
     "elapsed": 2179,
     "status": "ok",
     "timestamp": 1575539024536,
     "user": {
      "displayName": "阮熙峰",
      "photoUrl": "https://lh3.googleusercontent.com/a-/AAuE7mD85QBmunE7h4axv5gV6qvGRZAbaG2Wns44spqY=s64",
      "userId": "17399476974750092519"
     },
     "user_tz": -120
    },
    "id": "tjfb5XbQH8KF",
    "outputId": "9b36e6ba-d7bc-4836-897c-71c068252736"
   },
   "outputs": [
    {
     "data": {
      "text/plain": [
       "False"
      ]
     },
     "execution_count": 10,
     "metadata": {},
     "output_type": "execute_result"
    }
   ],
   "source": [
    "background.isnull().values.any()"
   ]
  },
  {
   "cell_type": "markdown",
   "metadata": {
    "colab_type": "text",
    "id": "_vgTOwJgKXly"
   },
   "source": [
    "## <font color=blue> Statistical Description </font>"
   ]
  },
  {
   "cell_type": "code",
   "execution_count": null,
   "metadata": {
    "colab": {
     "base_uri": "https://localhost:8080/",
     "height": 454
    },
    "colab_type": "code",
    "executionInfo": {
     "elapsed": 1259,
     "status": "ok",
     "timestamp": 1575539054304,
     "user": {
      "displayName": "阮熙峰",
      "photoUrl": "https://lh3.googleusercontent.com/a-/AAuE7mD85QBmunE7h4axv5gV6qvGRZAbaG2Wns44spqY=s64",
      "userId": "17399476974750092519"
     },
     "user_tz": -120
    },
    "id": "Ord694xn_tmZ",
    "outputId": "fdb2502f-e82b-4c44-c00e-4155d64d9d34"
   },
   "outputs": [],
   "source": [
    "pd.concat([signal.describe(include='all'), signal.dtypes.to_frame().T])"
   ]
  },
  {
   "cell_type": "code",
   "execution_count": 2,
   "metadata": {
    "colab": {
     "base_uri": "https://localhost:8080/",
     "height": 454
    },
    "colab_type": "code",
    "executionInfo": {
     "elapsed": 1259,
     "status": "ok",
     "timestamp": 1575539054304,
     "user": {
      "displayName": "阮熙峰",
      "photoUrl": "https://lh3.googleusercontent.com/a-/AAuE7mD85QBmunE7h4axv5gV6qvGRZAbaG2Wns44spqY=s64",
      "userId": "17399476974750092519"
     },
     "user_tz": -120
    },
    "id": "Ord694xn_tmZ",
    "outputId": "fdb2502f-e82b-4c44-c00e-4155d64d9d34"
   },
   "outputs": [],
   "source": [
    "##<font color=red> Staristical Inference </font>"
   ]
  },
  {
   "cell_type": "code",
   "execution_count": 12,
   "metadata": {
    "colab": {
     "base_uri": "https://localhost:8080/",
     "height": 348
    },
    "colab_type": "code",
    "executionInfo": {
     "elapsed": 6431,
     "status": "ok",
     "timestamp": 1575532127447,
     "user": {
      "displayName": "阮熙峰",
      "photoUrl": "https://lh3.googleusercontent.com/a-/AAuE7mD85QBmunE7h4axv5gV6qvGRZAbaG2Wns44spqY=s64",
      "userId": "17399476974750092519"
     },
     "user_tz": -120
    },
    "id": "EJyJpTcAF-Fe",
    "outputId": "aa1e56f3-ca86-4eb7-a481-38f2f1c62dc0"
   },
   "outputs": [
    {
     "data": {
      "text/html": [
       "<div>\n",
       "<style scoped>\n",
       "    .dataframe tbody tr th:only-of-type {\n",
       "        vertical-align: middle;\n",
       "    }\n",
       "\n",
       "    .dataframe tbody tr th {\n",
       "        vertical-align: top;\n",
       "    }\n",
       "\n",
       "    .dataframe thead th {\n",
       "        text-align: right;\n",
       "    }\n",
       "</style>\n",
       "<table border=\"1\" class=\"dataframe\">\n",
       "  <thead>\n",
       "    <tr style=\"text-align: right;\">\n",
       "      <th></th>\n",
       "      <th>Row</th>\n",
       "      <th>ldvtxsump</th>\n",
       "      <th>subvtxsum</th>\n",
       "      <th>dsumpt2</th>\n",
       "      <th>npvx</th>\n",
       "      <th>mu</th>\n",
       "      <th>weight</th>\n",
       "      <th>metsig</th>\n",
       "      <th>met</th>\n",
       "      <th>tmet</th>\n",
       "      <th>...</th>\n",
       "      <th>sjpt</th>\n",
       "      <th>dphij1met</th>\n",
       "      <th>dphij1met.1</th>\n",
       "      <th>dphisjmet</th>\n",
       "      <th>pthard</th>\n",
       "      <th>pthard20</th>\n",
       "      <th>run</th>\n",
       "      <th>event</th>\n",
       "      <th>lb</th>\n",
       "      <th>Target</th>\n",
       "    </tr>\n",
       "  </thead>\n",
       "  <tbody>\n",
       "    <tr>\n",
       "      <th>count</th>\n",
       "      <td>87952.0</td>\n",
       "      <td>87952.0</td>\n",
       "      <td>87952.0</td>\n",
       "      <td>87952.0</td>\n",
       "      <td>87952.0</td>\n",
       "      <td>87952.0</td>\n",
       "      <td>87952.0</td>\n",
       "      <td>87952.0</td>\n",
       "      <td>87952.0</td>\n",
       "      <td>87952.0</td>\n",
       "      <td>...</td>\n",
       "      <td>87952.0</td>\n",
       "      <td>87952.0</td>\n",
       "      <td>87952.0</td>\n",
       "      <td>87952.0</td>\n",
       "      <td>87952.0</td>\n",
       "      <td>87952.0</td>\n",
       "      <td>87952.0</td>\n",
       "      <td>87952.0</td>\n",
       "      <td>87952.0</td>\n",
       "      <td>87952.0</td>\n",
       "    </tr>\n",
       "    <tr>\n",
       "      <th>mean</th>\n",
       "      <td>1743723.742655</td>\n",
       "      <td>1040.350585</td>\n",
       "      <td>199.857069</td>\n",
       "      <td>840.493531</td>\n",
       "      <td>16.922037</td>\n",
       "      <td>31.094108</td>\n",
       "      <td>1.0</td>\n",
       "      <td>2.900248</td>\n",
       "      <td>43.786449</td>\n",
       "      <td>0.0</td>\n",
       "      <td>...</td>\n",
       "      <td>7.101795</td>\n",
       "      <td>2.042765</td>\n",
       "      <td>0.676435</td>\n",
       "      <td>-0.191925</td>\n",
       "      <td>44.528379</td>\n",
       "      <td>44.529051</td>\n",
       "      <td>321989.85184</td>\n",
       "      <td>1514314739.845029</td>\n",
       "      <td>497.334603</td>\n",
       "      <td>0.0</td>\n",
       "    </tr>\n",
       "    <tr>\n",
       "      <th>std</th>\n",
       "      <td>1035689.04538</td>\n",
       "      <td>92529.652039</td>\n",
       "      <td>8967.308925</td>\n",
       "      <td>92962.620534</td>\n",
       "      <td>5.940286</td>\n",
       "      <td>12.067966</td>\n",
       "      <td>0.0</td>\n",
       "      <td>0.9033</td>\n",
       "      <td>17.286522</td>\n",
       "      <td>0.0</td>\n",
       "      <td>...</td>\n",
       "      <td>12.29806</td>\n",
       "      <td>0.93127</td>\n",
       "      <td>1.753134</td>\n",
       "      <td>1.402878</td>\n",
       "      <td>21.944712</td>\n",
       "      <td>21.970076</td>\n",
       "      <td>16383.497719</td>\n",
       "      <td>977220303.37497</td>\n",
       "      <td>324.433509</td>\n",
       "      <td>0.0</td>\n",
       "    </tr>\n",
       "    <tr>\n",
       "      <th>min</th>\n",
       "      <td>5.0</td>\n",
       "      <td>0.539046</td>\n",
       "      <td>-99.0</td>\n",
       "      <td>-2596289.0</td>\n",
       "      <td>1.0</td>\n",
       "      <td>6.0</td>\n",
       "      <td>1.0</td>\n",
       "      <td>2.000003</td>\n",
       "      <td>16.99803</td>\n",
       "      <td>0.0</td>\n",
       "      <td>...</td>\n",
       "      <td>0.0</td>\n",
       "      <td>0.000032</td>\n",
       "      <td>-1.0</td>\n",
       "      <td>-1.0</td>\n",
       "      <td>0.387975</td>\n",
       "      <td>0.387975</td>\n",
       "      <td>276262.0</td>\n",
       "      <td>400610.0</td>\n",
       "      <td>6.0</td>\n",
       "      <td>0.0</td>\n",
       "    </tr>\n",
       "    <tr>\n",
       "      <th>25%</th>\n",
       "      <td>766439.25</td>\n",
       "      <td>64.921278</td>\n",
       "      <td>73.765325</td>\n",
       "      <td>-55.455633</td>\n",
       "      <td>13.0</td>\n",
       "      <td>22.0</td>\n",
       "      <td>1.0</td>\n",
       "      <td>2.265199</td>\n",
       "      <td>32.237132</td>\n",
       "      <td>0.0</td>\n",
       "      <td>...</td>\n",
       "      <td>0.0</td>\n",
       "      <td>1.323962</td>\n",
       "      <td>-1.0</td>\n",
       "      <td>-1.0</td>\n",
       "      <td>30.454894</td>\n",
       "      <td>30.45174</td>\n",
       "      <td>306451.0</td>\n",
       "      <td>731020397.5</td>\n",
       "      <td>249.0</td>\n",
       "      <td>0.0</td>\n",
       "    </tr>\n",
       "    <tr>\n",
       "      <th>50%</th>\n",
       "      <td>1754076.5</td>\n",
       "      <td>127.88754</td>\n",
       "      <td>107.818095</td>\n",
       "      <td>21.134017</td>\n",
       "      <td>16.0</td>\n",
       "      <td>29.0</td>\n",
       "      <td>1.0</td>\n",
       "      <td>2.630268</td>\n",
       "      <td>39.596452</td>\n",
       "      <td>0.0</td>\n",
       "      <td>...</td>\n",
       "      <td>0.0</td>\n",
       "      <td>2.356929</td>\n",
       "      <td>0.124984</td>\n",
       "      <td>-1.0</td>\n",
       "      <td>40.641234</td>\n",
       "      <td>40.636886</td>\n",
       "      <td>329835.0</td>\n",
       "      <td>1316000000.0</td>\n",
       "      <td>425.0</td>\n",
       "      <td>0.0</td>\n",
       "    </tr>\n",
       "    <tr>\n",
       "      <th>75%</th>\n",
       "      <td>2656163.25</td>\n",
       "      <td>311.90216</td>\n",
       "      <td>160.200795</td>\n",
       "      <td>192.93262</td>\n",
       "      <td>21.0</td>\n",
       "      <td>38.0</td>\n",
       "      <td>1.0</td>\n",
       "      <td>3.240619</td>\n",
       "      <td>50.618721</td>\n",
       "      <td>0.0</td>\n",
       "      <td>...</td>\n",
       "      <td>20.338278</td>\n",
       "      <td>2.836805</td>\n",
       "      <td>2.632574</td>\n",
       "      <td>0.408466</td>\n",
       "      <td>54.046152</td>\n",
       "      <td>54.04744</td>\n",
       "      <td>337176.0</td>\n",
       "      <td>2151000000.0</td>\n",
       "      <td>678.0</td>\n",
       "      <td>0.0</td>\n",
       "    </tr>\n",
       "    <tr>\n",
       "      <th>max</th>\n",
       "      <td>3490794.0</td>\n",
       "      <td>25182994.0</td>\n",
       "      <td>2599770.0</td>\n",
       "      <td>25182911.0</td>\n",
       "      <td>46.0</td>\n",
       "      <td>68.0</td>\n",
       "      <td>1.0</td>\n",
       "      <td>18.623907</td>\n",
       "      <td>552.67929</td>\n",
       "      <td>0.0</td>\n",
       "      <td>...</td>\n",
       "      <td>92.482209</td>\n",
       "      <td>3.141577</td>\n",
       "      <td>3.141577</td>\n",
       "      <td>3.141559</td>\n",
       "      <td>608.46831</td>\n",
       "      <td>608.46831</td>\n",
       "      <td>340453.0</td>\n",
       "      <td>4294000000.0</td>\n",
       "      <td>2596.0</td>\n",
       "      <td>0.0</td>\n",
       "    </tr>\n",
       "    <tr>\n",
       "      <th>0</th>\n",
       "      <td>int64</td>\n",
       "      <td>float64</td>\n",
       "      <td>float64</td>\n",
       "      <td>float64</td>\n",
       "      <td>int64</td>\n",
       "      <td>int64</td>\n",
       "      <td>int64</td>\n",
       "      <td>float64</td>\n",
       "      <td>float64</td>\n",
       "      <td>int64</td>\n",
       "      <td>...</td>\n",
       "      <td>float64</td>\n",
       "      <td>float64</td>\n",
       "      <td>float64</td>\n",
       "      <td>float64</td>\n",
       "      <td>float64</td>\n",
       "      <td>float64</td>\n",
       "      <td>int64</td>\n",
       "      <td>float64</td>\n",
       "      <td>int64</td>\n",
       "      <td>int64</td>\n",
       "    </tr>\n",
       "  </tbody>\n",
       "</table>\n",
       "<p>9 rows × 104 columns</p>\n",
       "</div>"
      ],
      "text/plain": [
       "                  Row     ldvtxsump    subvtxsum       dsumpt2       npvx  \\\n",
       "count         87952.0       87952.0      87952.0       87952.0    87952.0   \n",
       "mean   1743723.742655   1040.350585   199.857069    840.493531  16.922037   \n",
       "std     1035689.04538  92529.652039  8967.308925  92962.620534   5.940286   \n",
       "min               5.0      0.539046        -99.0    -2596289.0        1.0   \n",
       "25%         766439.25     64.921278    73.765325    -55.455633       13.0   \n",
       "50%         1754076.5     127.88754   107.818095     21.134017       16.0   \n",
       "75%        2656163.25     311.90216   160.200795     192.93262       21.0   \n",
       "max         3490794.0    25182994.0    2599770.0    25182911.0       46.0   \n",
       "0               int64       float64      float64       float64      int64   \n",
       "\n",
       "              mu   weight     metsig        met     tmet  ...       sjpt  \\\n",
       "count    87952.0  87952.0    87952.0    87952.0  87952.0  ...    87952.0   \n",
       "mean   31.094108      1.0   2.900248  43.786449      0.0  ...   7.101795   \n",
       "std    12.067966      0.0     0.9033  17.286522      0.0  ...   12.29806   \n",
       "min          6.0      1.0   2.000003   16.99803      0.0  ...        0.0   \n",
       "25%         22.0      1.0   2.265199  32.237132      0.0  ...        0.0   \n",
       "50%         29.0      1.0   2.630268  39.596452      0.0  ...        0.0   \n",
       "75%         38.0      1.0   3.240619  50.618721      0.0  ...  20.338278   \n",
       "max         68.0      1.0  18.623907  552.67929      0.0  ...  92.482209   \n",
       "0          int64    int64    float64    float64    int64  ...    float64   \n",
       "\n",
       "      dphij1met dphij1met.1 dphisjmet     pthard   pthard20           run  \\\n",
       "count   87952.0     87952.0   87952.0    87952.0    87952.0       87952.0   \n",
       "mean   2.042765    0.676435 -0.191925  44.528379  44.529051  321989.85184   \n",
       "std     0.93127    1.753134  1.402878  21.944712  21.970076  16383.497719   \n",
       "min    0.000032        -1.0      -1.0   0.387975   0.387975      276262.0   \n",
       "25%    1.323962        -1.0      -1.0  30.454894   30.45174      306451.0   \n",
       "50%    2.356929    0.124984      -1.0  40.641234  40.636886      329835.0   \n",
       "75%    2.836805    2.632574  0.408466  54.046152   54.04744      337176.0   \n",
       "max    3.141577    3.141577  3.141559  608.46831  608.46831      340453.0   \n",
       "0       float64     float64   float64    float64    float64         int64   \n",
       "\n",
       "                   event          lb   Target  \n",
       "count            87952.0     87952.0  87952.0  \n",
       "mean   1514314739.845029  497.334603      0.0  \n",
       "std      977220303.37497  324.433509      0.0  \n",
       "min             400610.0         6.0      0.0  \n",
       "25%          731020397.5       249.0      0.0  \n",
       "50%         1316000000.0       425.0      0.0  \n",
       "75%         2151000000.0       678.0      0.0  \n",
       "max         4294000000.0      2596.0      0.0  \n",
       "0                float64       int64    int64  \n",
       "\n",
       "[9 rows x 104 columns]"
      ]
     },
     "execution_count": 12,
     "metadata": {},
     "output_type": "execute_result"
    }
   ],
   "source": [
    "pd.concat([background.describe(include='all'), background.dtypes.to_frame().T])"
   ]
  },
  {
   "cell_type": "markdown",
   "metadata": {
    "colab_type": "text",
    "id": "4uOIzM9vHIlz"
   },
   "source": [
    "##### If there were any missing values, we would then have to decide how to best fill them in. The following articles discuss some standard techniques for dealing with missing values\n",
    "1. https://www.geeksforgeeks.org/working-with-missing-data-in-pandas/\n",
    "2. https://towardsdatascience.com/data-cleaning-with-python-and-pandas-detecting-missing-values-3e9c6ebcf78b"
   ]
  },
  {
   "cell_type": "markdown",
   "metadata": {
    "colab_type": "text",
    "id": "Ps3B5KaUfCE0"
   },
   "source": [
    "##<font color=blue>Preselection </font>\n",
    "Select the necessary features for your particular study, reduce the size of the sample"
   ]
  },
  {
   "cell_type": "code",
   "execution_count": 13,
   "metadata": {
    "colab": {
     "base_uri": "https://localhost:8080/",
     "height": 283
    },
    "colab_type": "code",
    "executionInfo": {
     "elapsed": 1380,
     "status": "ok",
     "timestamp": 1575539590220,
     "user": {
      "displayName": "阮熙峰",
      "photoUrl": "https://lh3.googleusercontent.com/a-/AAuE7mD85QBmunE7h4axv5gV6qvGRZAbaG2Wns44spqY=s64",
      "userId": "17399476974750092519"
     },
     "user_tz": -120
    },
    "id": "J9otumJJfBrh",
    "outputId": "064795d3-f0d5-4537-9112-fbd679149f4a"
   },
   "outputs": [
    {
     "data": {
      "text/plain": [
       "(   N_j_centr    metsig        ptyy    dphiyy  metsighar       dsumpt2  \\\n",
       " 0          0  2.660426   47.275539  2.805089   2.660426      2.557481   \n",
       " 1          1  2.662552   36.681226  2.982673   2.662552    168.294750   \n",
       " 2          3  5.038403  165.778680  1.934499   5.038403  18681.309000   \n",
       " 3          0  5.310796    9.228163  3.130039   5.304592    -83.345220   \n",
       " 4          1  3.311737   23.315707  2.597993   2.873845    -82.764510   \n",
       " \n",
       "    dphifjmet  \n",
       " 0  -1.000000  \n",
       " 1   2.252122  \n",
       " 2  -1.000000  \n",
       " 3   3.075746  \n",
       " 4   2.649973  ,\n",
       "    N_j_centr    metsig       ptyy    dphiyy  metsighar     dsumpt2  dphifjmet\n",
       " 0          0  3.742974  58.102621  2.683232   4.103208  -48.127790  -1.000000\n",
       " 1          0  2.163851   7.428614  3.138233   2.163851   17.352203   2.972754\n",
       " 2          0  4.012014  42.400460  2.115790   1.363079 -174.730500  -1.000000\n",
       " 3          0  2.320896  20.478816  2.524142   2.753184  -71.831760  -1.000000\n",
       " 4          0  2.123608  17.078363  2.778592   1.019351  -78.779510  -1.000000)"
      ]
     },
     "execution_count": 13,
     "metadata": {},
     "output_type": "execute_result"
    }
   ],
   "source": [
    "presignal=signal[['N_j_centr','metsig','ptyy','dphiyy','metsighar','dsumpt2','dphifjmet']]\n",
    "prebackground=background[['N_j_centr','metsig','ptyy','dphiyy','metsighar','dsumpt2','dphifjmet']]\n",
    "presignal.shape, prebackground.shape,\n",
    "presignal.head(),prebackground.head()\n"
   ]
  },
  {
   "cell_type": "markdown",
   "metadata": {
    "colab_type": "text",
    "id": "DFsGDUZUUS6Q"
   },
   "source": [
    "Select events with feature metsig>3.5, reduce those events you don't want in this study using your knowledge."
   ]
  },
  {
   "cell_type": "code",
   "execution_count": 14,
   "metadata": {
    "colab": {
     "base_uri": "https://localhost:8080/",
     "height": 272
    },
    "colab_type": "code",
    "executionInfo": {
     "elapsed": 1415,
     "status": "ok",
     "timestamp": 1575532794977,
     "user": {
      "displayName": "阮熙峰",
      "photoUrl": "https://lh3.googleusercontent.com/a-/AAuE7mD85QBmunE7h4axv5gV6qvGRZAbaG2Wns44spqY=s64",
      "userId": "17399476974750092519"
     },
     "user_tz": -120
    },
    "id": "RjXDlDvLfKZv",
    "outputId": "017c9863-9fde-4860-a852-8925f9a56a40"
   },
   "outputs": [
    {
     "data": {
      "text/plain": [
       "((1310, 7),\n",
       " (16361, 7),\n",
       "    N_j_centr    metsig        ptyy    dphiyy  metsighar       dsumpt2  \\\n",
       " 2          3  5.038403  165.778680  1.934499   5.038403  18681.309000   \n",
       " 3          0  5.310796    9.228163  3.130039   5.304592    -83.345220   \n",
       " 5          0  3.694666   21.091377  3.076935   3.930578    -30.135440   \n",
       " 7          0  3.734231   53.552043  2.782538   3.734231      2.350037   \n",
       " 8          2  4.295315  258.984530  2.336657   4.295315   8801.845400   \n",
       " \n",
       "    dphifjmet  \n",
       " 2  -1.000000  \n",
       " 3   3.075746  \n",
       " 5   2.887110  \n",
       " 7   2.846276  \n",
       " 8  -1.000000  ,\n",
       "     N_j_centr    metsig       ptyy    dphiyy  metsighar    dsumpt2  dphifjmet\n",
       " 0           0  3.742974  58.102621  2.683232   4.103208  -48.12779  -1.000000\n",
       " 2           0  4.012014  42.400460  2.115790   1.363079 -174.73050  -1.000000\n",
       " 5           1  3.867582  69.034015  0.826966   3.867582  194.59181  -1.000000\n",
       " 7           1  3.621729  60.853445  1.957118   1.708448 -266.85190   1.736145\n",
       " 34          0  3.591680  83.477125  0.180606   1.810508  -33.50189   3.101345)"
      ]
     },
     "execution_count": 14,
     "metadata": {},
     "output_type": "execute_result"
    }
   ],
   "source": [
    "presignal=presignal[presignal['metsig'].between(3.5,100,inclusive=False)]\n",
    "prebackground=prebackground[prebackground['metsig'].between(3.5,100,inclusive=False)]\n",
    "presignal.shape, prebackground.shape,presignal.head(),prebackground.head()\n"
   ]
  },
  {
   "cell_type": "markdown",
   "metadata": {
    "colab_type": "text",
    "id": "F7SWCuDTU6d_"
   },
   "source": [
    "##<font color=blue> 1D Distributions </font>\n",
    "Let's look at the 1D distribution"
   ]
  },
  {
   "cell_type": "code",
   "execution_count": 15,
   "metadata": {
    "colab": {
     "base_uri": "https://localhost:8080/",
     "height": 1000
    },
    "colab_type": "code",
    "executionInfo": {
     "elapsed": 4317,
     "status": "ok",
     "timestamp": 1575539602024,
     "user": {
      "displayName": "阮熙峰",
      "photoUrl": "https://lh3.googleusercontent.com/a-/AAuE7mD85QBmunE7h4axv5gV6qvGRZAbaG2Wns44spqY=s64",
      "userId": "17399476974750092519"
     },
     "user_tz": -120
    },
    "id": "JgY8oeoqU5IU",
    "outputId": "50f7b019-b075-40f3-9333-c5ba8ef7be56"
   },
   "outputs": [
    {
     "data": {
      "text/plain": [
       "(None, None, None, None, None, None, None)"
      ]
     },
     "execution_count": 15,
     "metadata": {},
     "output_type": "execute_result"
    },
    {
     "data": {
      "image/png": "[encoded data removed]",
      "text/plain": [
       "<Figure size 432x288 with 1 Axes>"
      ]
     },
     "metadata": {
      "needs_background": "light"
     },
     "output_type": "display_data"
    },
    {
     "data": {
      "image/png": "[encoded data removed]",
      "text/plain": [
       "<Figure size 432x288 with 1 Axes>"
      ]
     },
     "metadata": {
      "needs_background": "light"
     },
     "output_type": "display_data"
    },
    {
     "data": {
      "image/png": "[encoded data removed]",
      "text/plain": [
       "<Figure size 432x288 with 1 Axes>"
      ]
     },
     "metadata": {
      "needs_background": "light"
     },
     "output_type": "display_data"
    },
    {
     "data": {
      "image/png": "[encoded data removed]",
      "text/plain": [
       "<Figure size 432x288 with 1 Axes>"
      ]
     },
     "metadata": {
      "needs_background": "light"
     },
     "output_type": "display_data"
    },
    {
     "data": {
      "image/png": "[encoded data removed]",
      "text/plain": [
       "<Figure size 432x288 with 1 Axes>"
      ]
     },
     "metadata": {
      "needs_background": "light"
     },
     "output_type": "display_data"
    },
    {
     "data": {
      "image/png": "[encoded data removed]",
      "text/plain": [
       "<Figure size 432x288 with 1 Axes>"
      ]
     },
     "metadata": {
      "needs_background": "light"
     },
     "output_type": "display_data"
    },
    {
     "data": {
      "image/png": "[encoded data removed]",
      "text/plain": [
       "<Figure size 432x288 with 1 Axes>"
      ]
     },
     "metadata": {
      "needs_background": "light"
     },
     "output_type": "display_data"
    }
   ],
   "source": [
    "def draw1D(feature):\n",
    "   sigtmp=presignal[feature]\n",
    "   bkgtmp=prebackground[feature]\n",
    "   plt.figure()\n",
    "   plt.hist(sigtmp, bins=30, color='blue', label='Signal',\n",
    "          alpha=.7, density=True)\n",
    "   plt.hist(bkgtmp, bins=30, color='red', label='Background',\n",
    "         alpha=.6, density=True)\n",
    "   plt.legend(loc='upper right', frameon=False)\n",
    "   plt.ylabel('Events')\n",
    "   plt.xlabel(feature)\n",
    "   plt.savefig(feature+'.png')\n",
    "\n",
    "draw1D('N_j_centr'),draw1D('metsig'),draw1D('ptyy'),draw1D('dphiyy'),draw1D('metsighar'),draw1D('dsumpt2'),draw1D('dphifjmet')"
   ]
  },
  {
   "cell_type": "markdown",
   "metadata": {
    "colab_type": "text",
    "id": "TqCqJb6F2Bsn"
   },
   "source": [
    "## <font color=blue> Correlation Matrix </font>\n",
    "A correlation matrix allows us to view the relationship between the features of the data. Any highly correlated features must be investigated to determine if they must be removed or not. We must be careful about removing or engineering features becasue it can cause information loss or introduce bias."
   ]
  },
  {
   "cell_type": "code",
   "execution_count": 16,
   "metadata": {
    "colab": {},
    "colab_type": "code",
    "id": "iawDH1Kx2CKd"
   },
   "outputs": [],
   "source": [
    "def Correlation_Matrix(X,Y):\n",
    "    \n",
    "    corrS = X.corr()\n",
    "    corrB = Y.corr()\n",
    "    cmap = cmap =sns.diverging_palette(5, 250, as_cmap=True)\n",
    "    def magnify():\n",
    "        return [dict(selector=\"th\",\n",
    "                     props=[(\"font-size\", \"7pt\")]),\n",
    "                dict(selector=\"td\",\n",
    "                     props=[('padding', \"0em 0em\")]),\n",
    "                dict(selector=\"th:hover\",\n",
    "                     props=[(\"font-size\", \"12pt\")]),\n",
    "                dict(selector=\"tr:hover td:hover\",\n",
    "                     props=[('max-width', '200px'),\n",
    "                            ('font-size', '12pt')])\n",
    "    ]\n",
    "\n",
    "    S_corrmatrix = corrS.style.background_gradient(cmap, axis=1)\\\n",
    "        .set_properties(**{'max-width': '80px', 'font-size': '10pt'})\\\n",
    "        .set_caption(\"Hover to magify\")\\\n",
    "        .set_precision(2)\\\n",
    "        .set_table_styles(magnify())\n",
    "    B_corrmatrix = corrB.style.background_gradient(cmap, axis=1)\\\n",
    "        .set_properties(**{'max-width': '80px', 'font-size': '10pt'})\\\n",
    "        .set_caption(\"Hover to magify\")\\\n",
    "        .set_precision(2)\\\n",
    "        .set_table_styles(magnify())\n",
    "    return S_corrmatrix, B_corrmatrix\n",
    "\n",
    "matrixS, matrixB = Correlation_Matrix(presignal,prebackground)"
   ]
  },
  {
   "cell_type": "code",
   "execution_count": 17,
   "metadata": {
    "colab": {
     "base_uri": "https://localhost:8080/",
     "height": 163
    },
    "colab_type": "code",
    "executionInfo": {
     "elapsed": 1218,
     "status": "ok",
     "timestamp": 1575540269759,
     "user": {
      "displayName": "阮熙峰",
      "photoUrl": "https://lh3.googleusercontent.com/a-/AAuE7mD85QBmunE7h4axv5gV6qvGRZAbaG2Wns44spqY=s64",
      "userId": "17399476974750092519"
     },
     "user_tz": -120
    },
    "id": "AUN9R2fR3Odj",
    "outputId": "70158479-ce62-4d8d-cc4c-798a56ea7f18"
   },
   "outputs": [
    {
     "data": {
      "text/html": [
       "<style  type=\"text/css\" >\n",
       "    #T_2f2d5_ th {\n",
       "          font-size: 7pt;\n",
       "    }    #T_2f2d5_ td {\n",
       "          padding: 0em 0em;\n",
       "    }    #T_2f2d5_ th:hover {\n",
       "          font-size: 12pt;\n",
       "    }    #T_2f2d5_ tr:hover td:hover {\n",
       "          max-width: 200px;\n",
       "          font-size: 12pt;\n",
       "    }#T_2f2d5_row0_col0,#T_2f2d5_row1_col1,#T_2f2d5_row2_col2,#T_2f2d5_row3_col3,#T_2f2d5_row4_col4,#T_2f2d5_row5_col5,#T_2f2d5_row6_col6{\n",
       "            background-color:  #4479bb;\n",
       "            color:  #000000;\n",
       "            max-width:  80px;\n",
       "            font-size:  10pt;\n",
       "        }#T_2f2d5_row0_col1{\n",
       "            background-color:  #f1e7e9;\n",
       "            color:  #000000;\n",
       "            max-width:  80px;\n",
       "            font-size:  10pt;\n",
       "        }#T_2f2d5_row0_col2{\n",
       "            background-color:  #becee2;\n",
       "            color:  #000000;\n",
       "            max-width:  80px;\n",
       "            font-size:  10pt;\n",
       "        }#T_2f2d5_row0_col3,#T_2f2d5_row1_col3,#T_2f2d5_row2_col3,#T_2f2d5_row3_col2,#T_2f2d5_row4_col3,#T_2f2d5_row5_col3,#T_2f2d5_row6_col0{\n",
       "            background-color:  #d73c5b;\n",
       "            color:  #f1f1f1;\n",
       "            max-width:  80px;\n",
       "            font-size:  10pt;\n",
       "        }#T_2f2d5_row0_col4{\n",
       "            background-color:  #edeef1;\n",
       "            color:  #000000;\n",
       "            max-width:  80px;\n",
       "            font-size:  10pt;\n",
       "        }#T_2f2d5_row0_col5{\n",
       "            background-color:  #eab9c3;\n",
       "            color:  #000000;\n",
       "            max-width:  80px;\n",
       "            font-size:  10pt;\n",
       "        }#T_2f2d5_row0_col6{\n",
       "            background-color:  #e38a9c;\n",
       "            color:  #000000;\n",
       "            max-width:  80px;\n",
       "            font-size:  10pt;\n",
       "        }#T_2f2d5_row1_col0{\n",
       "            background-color:  #efdcdf;\n",
       "            color:  #000000;\n",
       "            max-width:  80px;\n",
       "            font-size:  10pt;\n",
       "        }#T_2f2d5_row1_col2{\n",
       "            background-color:  #bdcde2;\n",
       "            color:  #000000;\n",
       "            max-width:  80px;\n",
       "            font-size:  10pt;\n",
       "        }#T_2f2d5_row1_col4,#T_2f2d5_row4_col1{\n",
       "            background-color:  #6a93c7;\n",
       "            color:  #000000;\n",
       "            max-width:  80px;\n",
       "            font-size:  10pt;\n",
       "        }#T_2f2d5_row1_col5{\n",
       "            background-color:  #e8adb8;\n",
       "            color:  #000000;\n",
       "            max-width:  80px;\n",
       "            font-size:  10pt;\n",
       "        }#T_2f2d5_row1_col6{\n",
       "            background-color:  #e7a4b1;\n",
       "            color:  #000000;\n",
       "            max-width:  80px;\n",
       "            font-size:  10pt;\n",
       "        }#T_2f2d5_row2_col0{\n",
       "            background-color:  #a7bedb;\n",
       "            color:  #000000;\n",
       "            max-width:  80px;\n",
       "            font-size:  10pt;\n",
       "        }#T_2f2d5_row2_col1{\n",
       "            background-color:  #a2bad9;\n",
       "            color:  #000000;\n",
       "            max-width:  80px;\n",
       "            font-size:  10pt;\n",
       "        }#T_2f2d5_row2_col4{\n",
       "            background-color:  #a1b9d9;\n",
       "            color:  #000000;\n",
       "            max-width:  80px;\n",
       "            font-size:  10pt;\n",
       "        }#T_2f2d5_row2_col5{\n",
       "            background-color:  #e0e6ed;\n",
       "            color:  #000000;\n",
       "            max-width:  80px;\n",
       "            font-size:  10pt;\n",
       "        }#T_2f2d5_row2_col6{\n",
       "            background-color:  #ecc3cb;\n",
       "            color:  #000000;\n",
       "            max-width:  80px;\n",
       "            font-size:  10pt;\n",
       "        }#T_2f2d5_row3_col0{\n",
       "            background-color:  #e17d91;\n",
       "            color:  #000000;\n",
       "            max-width:  80px;\n",
       "            font-size:  10pt;\n",
       "        }#T_2f2d5_row3_col1{\n",
       "            background-color:  #e38d9e;\n",
       "            color:  #000000;\n",
       "            max-width:  80px;\n",
       "            font-size:  10pt;\n",
       "        }#T_2f2d5_row3_col4,#T_2f2d5_row6_col3{\n",
       "            background-color:  #e3889a;\n",
       "            color:  #000000;\n",
       "            max-width:  80px;\n",
       "            font-size:  10pt;\n",
       "        }#T_2f2d5_row3_col5{\n",
       "            background-color:  #ebbfc8;\n",
       "            color:  #000000;\n",
       "            max-width:  80px;\n",
       "            font-size:  10pt;\n",
       "        }#T_2f2d5_row3_col6,#T_2f2d5_row4_col0{\n",
       "            background-color:  #f2eff0;\n",
       "            color:  #000000;\n",
       "            max-width:  80px;\n",
       "            font-size:  10pt;\n",
       "        }#T_2f2d5_row4_col2{\n",
       "            background-color:  #bacbe1;\n",
       "            color:  #000000;\n",
       "            max-width:  80px;\n",
       "            font-size:  10pt;\n",
       "        }#T_2f2d5_row4_col5{\n",
       "            background-color:  #e9b2bd;\n",
       "            color:  #000000;\n",
       "            max-width:  80px;\n",
       "            font-size:  10pt;\n",
       "        }#T_2f2d5_row4_col6{\n",
       "            background-color:  #e6a1af;\n",
       "            color:  #000000;\n",
       "            max-width:  80px;\n",
       "            font-size:  10pt;\n",
       "        }#T_2f2d5_row5_col0{\n",
       "            background-color:  #e0768b;\n",
       "            color:  #000000;\n",
       "            max-width:  80px;\n",
       "            font-size:  10pt;\n",
       "        }#T_2f2d5_row5_col1{\n",
       "            background-color:  #e0778c;\n",
       "            color:  #000000;\n",
       "            max-width:  80px;\n",
       "            font-size:  10pt;\n",
       "        }#T_2f2d5_row5_col2{\n",
       "            background-color:  #e7a7b4;\n",
       "            color:  #000000;\n",
       "            max-width:  80px;\n",
       "            font-size:  10pt;\n",
       "        }#T_2f2d5_row5_col4{\n",
       "            background-color:  #e0798d;\n",
       "            color:  #000000;\n",
       "            max-width:  80px;\n",
       "            font-size:  10pt;\n",
       "        }#T_2f2d5_row5_col6,#T_2f2d5_row6_col5{\n",
       "            background-color:  #de6c83;\n",
       "            color:  #000000;\n",
       "            max-width:  80px;\n",
       "            font-size:  10pt;\n",
       "        }#T_2f2d5_row6_col1{\n",
       "            background-color:  #df6d84;\n",
       "            color:  #000000;\n",
       "            max-width:  80px;\n",
       "            font-size:  10pt;\n",
       "        }#T_2f2d5_row6_col2{\n",
       "            background-color:  #d84462;\n",
       "            color:  #f1f1f1;\n",
       "            max-width:  80px;\n",
       "            font-size:  10pt;\n",
       "        }#T_2f2d5_row6_col4{\n",
       "            background-color:  #dd657d;\n",
       "            color:  #000000;\n",
       "            max-width:  80px;\n",
       "            font-size:  10pt;\n",
       "        }</style><table id=\"T_2f2d5_\" ><caption>Hover to magify</caption><thead>    <tr>        <th class=\"blank level0\" ></th>        <th class=\"col_heading level0 col0\" >N_j_centr</th>        <th class=\"col_heading level0 col1\" >metsig</th>        <th class=\"col_heading level0 col2\" >ptyy</th>        <th class=\"col_heading level0 col3\" >dphiyy</th>        <th class=\"col_heading level0 col4\" >metsighar</th>        <th class=\"col_heading level0 col5\" >dsumpt2</th>        <th class=\"col_heading level0 col6\" >dphifjmet</th>    </tr></thead><tbody>\n",
       "                <tr>\n",
       "                        <th id=\"T_2f2d5_level0_row0\" class=\"row_heading level0 row0\" >N_j_centr</th>\n",
       "                        <td id=\"T_2f2d5_row0_col0\" class=\"data row0 col0\" >1.00</td>\n",
       "                        <td id=\"T_2f2d5_row0_col1\" class=\"data row0 col1\" >0.23</td>\n",
       "                        <td id=\"T_2f2d5_row0_col2\" class=\"data row0 col2\" >0.49</td>\n",
       "                        <td id=\"T_2f2d5_row0_col3\" class=\"data row0 col3\" >-0.46</td>\n",
       "                        <td id=\"T_2f2d5_row0_col4\" class=\"data row0 col4\" >0.29</td>\n",
       "                        <td id=\"T_2f2d5_row0_col5\" class=\"data row0 col5\" >0.04</td>\n",
       "                        <td id=\"T_2f2d5_row0_col6\" class=\"data row0 col6\" >-0.14</td>\n",
       "            </tr>\n",
       "            <tr>\n",
       "                        <th id=\"T_2f2d5_level0_row1\" class=\"row_heading level0 row1\" >metsig</th>\n",
       "                        <td id=\"T_2f2d5_row1_col0\" class=\"data row1 col0\" >0.23</td>\n",
       "                        <td id=\"T_2f2d5_row1_col1\" class=\"data row1 col1\" >1.00</td>\n",
       "                        <td id=\"T_2f2d5_row1_col2\" class=\"data row1 col2\" >0.51</td>\n",
       "                        <td id=\"T_2f2d5_row1_col3\" class=\"data row1 col3\" >-0.38</td>\n",
       "                        <td id=\"T_2f2d5_row1_col4\" class=\"data row1 col4\" >0.84</td>\n",
       "                        <td id=\"T_2f2d5_row1_col5\" class=\"data row1 col5\" >0.05</td>\n",
       "                        <td id=\"T_2f2d5_row1_col6\" class=\"data row1 col6\" >0.02</td>\n",
       "            </tr>\n",
       "            <tr>\n",
       "                        <th id=\"T_2f2d5_level0_row2\" class=\"row_heading level0 row2\" >ptyy</th>\n",
       "                        <td id=\"T_2f2d5_row2_col0\" class=\"data row2 col0\" >0.49</td>\n",
       "                        <td id=\"T_2f2d5_row2_col1\" class=\"data row2 col1\" >0.51</td>\n",
       "                        <td id=\"T_2f2d5_row2_col2\" class=\"data row2 col2\" >1.00</td>\n",
       "                        <td id=\"T_2f2d5_row2_col3\" class=\"data row2 col3\" >-0.78</td>\n",
       "                        <td id=\"T_2f2d5_row2_col4\" class=\"data row2 col4\" >0.52</td>\n",
       "                        <td id=\"T_2f2d5_row2_col5\" class=\"data row2 col5\" >0.20</td>\n",
       "                        <td id=\"T_2f2d5_row2_col6\" class=\"data row2 col6\" >-0.12</td>\n",
       "            </tr>\n",
       "            <tr>\n",
       "                        <th id=\"T_2f2d5_level0_row3\" class=\"row_heading level0 row3\" >dphiyy</th>\n",
       "                        <td id=\"T_2f2d5_row3_col0\" class=\"data row3 col0\" >-0.46</td>\n",
       "                        <td id=\"T_2f2d5_row3_col1\" class=\"data row3 col1\" >-0.38</td>\n",
       "                        <td id=\"T_2f2d5_row3_col2\" class=\"data row3 col2\" >-0.78</td>\n",
       "                        <td id=\"T_2f2d5_row3_col3\" class=\"data row3 col3\" >1.00</td>\n",
       "                        <td id=\"T_2f2d5_row3_col4\" class=\"data row3 col4\" >-0.41</td>\n",
       "                        <td id=\"T_2f2d5_row3_col5\" class=\"data row3 col5\" >-0.14</td>\n",
       "                        <td id=\"T_2f2d5_row3_col6\" class=\"data row3 col6\" >0.10</td>\n",
       "            </tr>\n",
       "            <tr>\n",
       "                        <th id=\"T_2f2d5_level0_row4\" class=\"row_heading level0 row4\" >metsighar</th>\n",
       "                        <td id=\"T_2f2d5_row4_col0\" class=\"data row4 col0\" >0.29</td>\n",
       "                        <td id=\"T_2f2d5_row4_col1\" class=\"data row4 col1\" >0.84</td>\n",
       "                        <td id=\"T_2f2d5_row4_col2\" class=\"data row4 col2\" >0.52</td>\n",
       "                        <td id=\"T_2f2d5_row4_col3\" class=\"data row4 col3\" >-0.41</td>\n",
       "                        <td id=\"T_2f2d5_row4_col4\" class=\"data row4 col4\" >1.00</td>\n",
       "                        <td id=\"T_2f2d5_row4_col5\" class=\"data row4 col5\" >0.05</td>\n",
       "                        <td id=\"T_2f2d5_row4_col6\" class=\"data row4 col6\" >-0.01</td>\n",
       "            </tr>\n",
       "            <tr>\n",
       "                        <th id=\"T_2f2d5_level0_row5\" class=\"row_heading level0 row5\" >dsumpt2</th>\n",
       "                        <td id=\"T_2f2d5_row5_col0\" class=\"data row5 col0\" >0.04</td>\n",
       "                        <td id=\"T_2f2d5_row5_col1\" class=\"data row5 col1\" >0.05</td>\n",
       "                        <td id=\"T_2f2d5_row5_col2\" class=\"data row5 col2\" >0.20</td>\n",
       "                        <td id=\"T_2f2d5_row5_col3\" class=\"data row5 col3\" >-0.14</td>\n",
       "                        <td id=\"T_2f2d5_row5_col4\" class=\"data row5 col4\" >0.05</td>\n",
       "                        <td id=\"T_2f2d5_row5_col5\" class=\"data row5 col5\" >1.00</td>\n",
       "                        <td id=\"T_2f2d5_row5_col6\" class=\"data row5 col6\" >0.01</td>\n",
       "            </tr>\n",
       "            <tr>\n",
       "                        <th id=\"T_2f2d5_level0_row6\" class=\"row_heading level0 row6\" >dphifjmet</th>\n",
       "                        <td id=\"T_2f2d5_row6_col0\" class=\"data row6 col0\" >-0.14</td>\n",
       "                        <td id=\"T_2f2d5_row6_col1\" class=\"data row6 col1\" >0.02</td>\n",
       "                        <td id=\"T_2f2d5_row6_col2\" class=\"data row6 col2\" >-0.12</td>\n",
       "                        <td id=\"T_2f2d5_row6_col3\" class=\"data row6 col3\" >0.10</td>\n",
       "                        <td id=\"T_2f2d5_row6_col4\" class=\"data row6 col4\" >-0.01</td>\n",
       "                        <td id=\"T_2f2d5_row6_col5\" class=\"data row6 col5\" >0.01</td>\n",
       "                        <td id=\"T_2f2d5_row6_col6\" class=\"data row6 col6\" >1.00</td>\n",
       "            </tr>\n",
       "    </tbody></table>"
      ],
      "text/plain": [
       "<pandas.io.formats.style.Styler at 0x7fd3779fff10>"
      ]
     },
     "execution_count": 17,
     "metadata": {},
     "output_type": "execute_result"
    }
   ],
   "source": [
    "matrixS"
   ]
  },
  {
   "cell_type": "code",
   "execution_count": 18,
   "metadata": {
    "colab": {
     "base_uri": "https://localhost:8080/",
     "height": 163
    },
    "colab_type": "code",
    "executionInfo": {
     "elapsed": 2123,
     "status": "ok",
     "timestamp": 1575540272237,
     "user": {
      "displayName": "阮熙峰",
      "photoUrl": "https://lh3.googleusercontent.com/a-/AAuE7mD85QBmunE7h4axv5gV6qvGRZAbaG2Wns44spqY=s64",
      "userId": "17399476974750092519"
     },
     "user_tz": -120
    },
    "id": "s_Y2JL5u3QcB",
    "outputId": "08caac90-9184-4d1c-f221-765a786d580f"
   },
   "outputs": [
    {
     "data": {
      "text/html": [
       "<style  type=\"text/css\" >\n",
       "    #T_b7d99_ th {\n",
       "          font-size: 7pt;\n",
       "    }    #T_b7d99_ td {\n",
       "          padding: 0em 0em;\n",
       "    }    #T_b7d99_ th:hover {\n",
       "          font-size: 12pt;\n",
       "    }    #T_b7d99_ tr:hover td:hover {\n",
       "          max-width: 200px;\n",
       "          font-size: 12pt;\n",
       "    }#T_b7d99_row0_col0,#T_b7d99_row1_col1,#T_b7d99_row2_col2,#T_b7d99_row3_col3,#T_b7d99_row4_col4,#T_b7d99_row5_col5,#T_b7d99_row6_col6{\n",
       "            background-color:  #4479bb;\n",
       "            color:  #000000;\n",
       "            max-width:  80px;\n",
       "            font-size:  10pt;\n",
       "        }#T_b7d99_row0_col1{\n",
       "            background-color:  #db5872;\n",
       "            color:  #000000;\n",
       "            max-width:  80px;\n",
       "            font-size:  10pt;\n",
       "        }#T_b7d99_row0_col2{\n",
       "            background-color:  #e9b1bc;\n",
       "            color:  #000000;\n",
       "            max-width:  80px;\n",
       "            font-size:  10pt;\n",
       "        }#T_b7d99_row0_col3,#T_b7d99_row1_col3,#T_b7d99_row2_col3,#T_b7d99_row3_col2,#T_b7d99_row4_col3,#T_b7d99_row5_col3,#T_b7d99_row5_col6,#T_b7d99_row6_col2{\n",
       "            background-color:  #d73c5b;\n",
       "            color:  #f1f1f1;\n",
       "            max-width:  80px;\n",
       "            font-size:  10pt;\n",
       "        }#T_b7d99_row0_col4{\n",
       "            background-color:  #e48e9f;\n",
       "            color:  #000000;\n",
       "            max-width:  80px;\n",
       "            font-size:  10pt;\n",
       "        }#T_b7d99_row0_col5{\n",
       "            background-color:  #dd637c;\n",
       "            color:  #000000;\n",
       "            max-width:  80px;\n",
       "            font-size:  10pt;\n",
       "        }#T_b7d99_row0_col6{\n",
       "            background-color:  #dc5b75;\n",
       "            color:  #000000;\n",
       "            max-width:  80px;\n",
       "            font-size:  10pt;\n",
       "        }#T_b7d99_row1_col0{\n",
       "            background-color:  #df6f85;\n",
       "            color:  #000000;\n",
       "            max-width:  80px;\n",
       "            font-size:  10pt;\n",
       "        }#T_b7d99_row1_col2,#T_b7d99_row3_col4{\n",
       "            background-color:  #eab7c1;\n",
       "            color:  #000000;\n",
       "            max-width:  80px;\n",
       "            font-size:  10pt;\n",
       "        }#T_b7d99_row1_col4{\n",
       "            background-color:  #efdade;\n",
       "            color:  #000000;\n",
       "            max-width:  80px;\n",
       "            font-size:  10pt;\n",
       "        }#T_b7d99_row1_col5{\n",
       "            background-color:  #e18093;\n",
       "            color:  #000000;\n",
       "            max-width:  80px;\n",
       "            font-size:  10pt;\n",
       "        }#T_b7d99_row1_col6{\n",
       "            background-color:  #de687f;\n",
       "            color:  #000000;\n",
       "            max-width:  80px;\n",
       "            font-size:  10pt;\n",
       "        }#T_b7d99_row2_col0{\n",
       "            background-color:  #e2e7ee;\n",
       "            color:  #000000;\n",
       "            max-width:  80px;\n",
       "            font-size:  10pt;\n",
       "        }#T_b7d99_row2_col1{\n",
       "            background-color:  #eaecf0;\n",
       "            color:  #000000;\n",
       "            max-width:  80px;\n",
       "            font-size:  10pt;\n",
       "        }#T_b7d99_row2_col4{\n",
       "            background-color:  #f1e7e9;\n",
       "            color:  #000000;\n",
       "            max-width:  80px;\n",
       "            font-size:  10pt;\n",
       "        }#T_b7d99_row2_col5{\n",
       "            background-color:  #eed3d8;\n",
       "            color:  #000000;\n",
       "            max-width:  80px;\n",
       "            font-size:  10pt;\n",
       "        }#T_b7d99_row2_col6{\n",
       "            background-color:  #e491a1;\n",
       "            color:  #000000;\n",
       "            max-width:  80px;\n",
       "            font-size:  10pt;\n",
       "        }#T_b7d99_row3_col0{\n",
       "            background-color:  #e9b4be;\n",
       "            color:  #000000;\n",
       "            max-width:  80px;\n",
       "            font-size:  10pt;\n",
       "        }#T_b7d99_row3_col1{\n",
       "            background-color:  #e6a1af;\n",
       "            color:  #000000;\n",
       "            max-width:  80px;\n",
       "            font-size:  10pt;\n",
       "        }#T_b7d99_row3_col5{\n",
       "            background-color:  #edcdd3;\n",
       "            color:  #000000;\n",
       "            max-width:  80px;\n",
       "            font-size:  10pt;\n",
       "        }#T_b7d99_row3_col6{\n",
       "            background-color:  #d8e0eb;\n",
       "            color:  #000000;\n",
       "            max-width:  80px;\n",
       "            font-size:  10pt;\n",
       "        }#T_b7d99_row4_col0{\n",
       "            background-color:  #e38b9d;\n",
       "            color:  #000000;\n",
       "            max-width:  80px;\n",
       "            font-size:  10pt;\n",
       "        }#T_b7d99_row4_col1{\n",
       "            background-color:  #ecc8cf;\n",
       "            color:  #000000;\n",
       "            max-width:  80px;\n",
       "            font-size:  10pt;\n",
       "        }#T_b7d99_row4_col2{\n",
       "            background-color:  #e28497;\n",
       "            color:  #000000;\n",
       "            max-width:  80px;\n",
       "            font-size:  10pt;\n",
       "        }#T_b7d99_row4_col5{\n",
       "            background-color:  #de667e;\n",
       "            color:  #000000;\n",
       "            max-width:  80px;\n",
       "            font-size:  10pt;\n",
       "        }#T_b7d99_row4_col6{\n",
       "            background-color:  #df6d84;\n",
       "            color:  #000000;\n",
       "            max-width:  80px;\n",
       "            font-size:  10pt;\n",
       "        }#T_b7d99_row5_col0{\n",
       "            background-color:  #d8405e;\n",
       "            color:  #f1f1f1;\n",
       "            max-width:  80px;\n",
       "            font-size:  10pt;\n",
       "        }#T_b7d99_row5_col1{\n",
       "            background-color:  #d94663;\n",
       "            color:  #f1f1f1;\n",
       "            max-width:  80px;\n",
       "            font-size:  10pt;\n",
       "        }#T_b7d99_row5_col2,#T_b7d99_row5_col4{\n",
       "            background-color:  #d94764;\n",
       "            color:  #f1f1f1;\n",
       "            max-width:  80px;\n",
       "            font-size:  10pt;\n",
       "        }#T_b7d99_row6_col0{\n",
       "            background-color:  #e28396;\n",
       "            color:  #000000;\n",
       "            max-width:  80px;\n",
       "            font-size:  10pt;\n",
       "        }#T_b7d99_row6_col1{\n",
       "            background-color:  #e0798d;\n",
       "            color:  #000000;\n",
       "            max-width:  80px;\n",
       "            font-size:  10pt;\n",
       "        }#T_b7d99_row6_col3{\n",
       "            background-color:  #efdcdf;\n",
       "            color:  #000000;\n",
       "            max-width:  80px;\n",
       "            font-size:  10pt;\n",
       "        }#T_b7d99_row6_col4{\n",
       "            background-color:  #e599a8;\n",
       "            color:  #000000;\n",
       "            max-width:  80px;\n",
       "            font-size:  10pt;\n",
       "        }#T_b7d99_row6_col5{\n",
       "            background-color:  #e28799;\n",
       "            color:  #000000;\n",
       "            max-width:  80px;\n",
       "            font-size:  10pt;\n",
       "        }</style><table id=\"T_b7d99_\" ><caption>Hover to magify</caption><thead>    <tr>        <th class=\"blank level0\" ></th>        <th class=\"col_heading level0 col0\" >N_j_centr</th>        <th class=\"col_heading level0 col1\" >metsig</th>        <th class=\"col_heading level0 col2\" >ptyy</th>        <th class=\"col_heading level0 col3\" >dphiyy</th>        <th class=\"col_heading level0 col4\" >metsighar</th>        <th class=\"col_heading level0 col5\" >dsumpt2</th>        <th class=\"col_heading level0 col6\" >dphifjmet</th>    </tr></thead><tbody>\n",
       "                <tr>\n",
       "                        <th id=\"T_b7d99_level0_row0\" class=\"row_heading level0 row0\" >N_j_centr</th>\n",
       "                        <td id=\"T_b7d99_row0_col0\" class=\"data row0 col0\" >1.00</td>\n",
       "                        <td id=\"T_b7d99_row0_col1\" class=\"data row0 col1\" >-0.04</td>\n",
       "                        <td id=\"T_b7d99_row0_col2\" class=\"data row0 col2\" >0.24</td>\n",
       "                        <td id=\"T_b7d99_row0_col3\" class=\"data row0 col3\" >-0.12</td>\n",
       "                        <td id=\"T_b7d99_row0_col4\" class=\"data row0 col4\" >0.13</td>\n",
       "                        <td id=\"T_b7d99_row0_col5\" class=\"data row0 col5\" >0.00</td>\n",
       "                        <td id=\"T_b7d99_row0_col6\" class=\"data row0 col6\" >-0.03</td>\n",
       "            </tr>\n",
       "            <tr>\n",
       "                        <th id=\"T_b7d99_level0_row1\" class=\"row_heading level0 row1\" >metsig</th>\n",
       "                        <td id=\"T_b7d99_row1_col0\" class=\"data row1 col0\" >-0.04</td>\n",
       "                        <td id=\"T_b7d99_row1_col1\" class=\"data row1 col1\" >1.00</td>\n",
       "                        <td id=\"T_b7d99_row1_col2\" class=\"data row1 col2\" >0.20</td>\n",
       "                        <td id=\"T_b7d99_row1_col3\" class=\"data row1 col3\" >-0.21</td>\n",
       "                        <td id=\"T_b7d99_row1_col4\" class=\"data row1 col4\" >0.32</td>\n",
       "                        <td id=\"T_b7d99_row1_col5\" class=\"data row1 col5\" >0.02</td>\n",
       "                        <td id=\"T_b7d99_row1_col6\" class=\"data row1 col6\" >-0.06</td>\n",
       "            </tr>\n",
       "            <tr>\n",
       "                        <th id=\"T_b7d99_level0_row2\" class=\"row_heading level0 row2\" >ptyy</th>\n",
       "                        <td id=\"T_b7d99_row2_col0\" class=\"data row2 col0\" >0.24</td>\n",
       "                        <td id=\"T_b7d99_row2_col1\" class=\"data row2 col1\" >0.20</td>\n",
       "                        <td id=\"T_b7d99_row2_col2\" class=\"data row2 col2\" >1.00</td>\n",
       "                        <td id=\"T_b7d99_row2_col3\" class=\"data row2 col3\" >-0.68</td>\n",
       "                        <td id=\"T_b7d99_row2_col4\" class=\"data row2 col4\" >0.11</td>\n",
       "                        <td id=\"T_b7d99_row2_col5\" class=\"data row2 col5\" >0.02</td>\n",
       "                        <td id=\"T_b7d99_row2_col6\" class=\"data row2 col6\" >-0.28</td>\n",
       "            </tr>\n",
       "            <tr>\n",
       "                        <th id=\"T_b7d99_level0_row3\" class=\"row_heading level0 row3\" >dphiyy</th>\n",
       "                        <td id=\"T_b7d99_row3_col0\" class=\"data row3 col0\" >-0.12</td>\n",
       "                        <td id=\"T_b7d99_row3_col1\" class=\"data row3 col1\" >-0.21</td>\n",
       "                        <td id=\"T_b7d99_row3_col2\" class=\"data row3 col2\" >-0.68</td>\n",
       "                        <td id=\"T_b7d99_row3_col3\" class=\"data row3 col3\" >1.00</td>\n",
       "                        <td id=\"T_b7d99_row3_col4\" class=\"data row3 col4\" >-0.11</td>\n",
       "                        <td id=\"T_b7d99_row3_col5\" class=\"data row3 col5\" >-0.01</td>\n",
       "                        <td id=\"T_b7d99_row3_col6\" class=\"data row3 col6\" >0.28</td>\n",
       "            </tr>\n",
       "            <tr>\n",
       "                        <th id=\"T_b7d99_level0_row4\" class=\"row_heading level0 row4\" >metsighar</th>\n",
       "                        <td id=\"T_b7d99_row4_col0\" class=\"data row4 col0\" >0.13</td>\n",
       "                        <td id=\"T_b7d99_row4_col1\" class=\"data row4 col1\" >0.32</td>\n",
       "                        <td id=\"T_b7d99_row4_col2\" class=\"data row4 col2\" >0.11</td>\n",
       "                        <td id=\"T_b7d99_row4_col3\" class=\"data row4 col3\" >-0.11</td>\n",
       "                        <td id=\"T_b7d99_row4_col4\" class=\"data row4 col4\" >1.00</td>\n",
       "                        <td id=\"T_b7d99_row4_col5\" class=\"data row4 col5\" >0.02</td>\n",
       "                        <td id=\"T_b7d99_row4_col6\" class=\"data row4 col6\" >0.05</td>\n",
       "            </tr>\n",
       "            <tr>\n",
       "                        <th id=\"T_b7d99_level0_row5\" class=\"row_heading level0 row5\" >dsumpt2</th>\n",
       "                        <td id=\"T_b7d99_row5_col0\" class=\"data row5 col0\" >0.00</td>\n",
       "                        <td id=\"T_b7d99_row5_col1\" class=\"data row5 col1\" >0.02</td>\n",
       "                        <td id=\"T_b7d99_row5_col2\" class=\"data row5 col2\" >0.02</td>\n",
       "                        <td id=\"T_b7d99_row5_col3\" class=\"data row5 col3\" >-0.01</td>\n",
       "                        <td id=\"T_b7d99_row5_col4\" class=\"data row5 col4\" >0.02</td>\n",
       "                        <td id=\"T_b7d99_row5_col5\" class=\"data row5 col5\" >1.00</td>\n",
       "                        <td id=\"T_b7d99_row5_col6\" class=\"data row5 col6\" >-0.01</td>\n",
       "            </tr>\n",
       "            <tr>\n",
       "                        <th id=\"T_b7d99_level0_row6\" class=\"row_heading level0 row6\" >dphifjmet</th>\n",
       "                        <td id=\"T_b7d99_row6_col0\" class=\"data row6 col0\" >-0.03</td>\n",
       "                        <td id=\"T_b7d99_row6_col1\" class=\"data row6 col1\" >-0.06</td>\n",
       "                        <td id=\"T_b7d99_row6_col2\" class=\"data row6 col2\" >-0.28</td>\n",
       "                        <td id=\"T_b7d99_row6_col3\" class=\"data row6 col3\" >0.28</td>\n",
       "                        <td id=\"T_b7d99_row6_col4\" class=\"data row6 col4\" >0.05</td>\n",
       "                        <td id=\"T_b7d99_row6_col5\" class=\"data row6 col5\" >-0.01</td>\n",
       "                        <td id=\"T_b7d99_row6_col6\" class=\"data row6 col6\" >1.00</td>\n",
       "            </tr>\n",
       "    </tbody></table>"
      ],
      "text/plain": [
       "<pandas.io.formats.style.Styler at 0x7fd377bcdd30>"
      ]
     },
     "execution_count": 18,
     "metadata": {},
     "output_type": "execute_result"
    }
   ],
   "source": [
    "matrixB"
   ]
  },
  {
   "cell_type": "markdown",
   "metadata": {
    "colab_type": "text",
    "id": "FJNBebvUg4re"
   },
   "source": [
    "## <font color=blue>Label the signal and background</font>"
   ]
  },
  {
   "cell_type": "code",
   "execution_count": 19,
   "metadata": {
    "colab": {
     "base_uri": "https://localhost:8080/",
     "height": 406
    },
    "colab_type": "code",
    "executionInfo": {
     "elapsed": 1242,
     "status": "ok",
     "timestamp": 1575540443207,
     "user": {
      "displayName": "阮熙峰",
      "photoUrl": "https://lh3.googleusercontent.com/a-/AAuE7mD85QBmunE7h4axv5gV6qvGRZAbaG2Wns44spqY=s64",
      "userId": "17399476974750092519"
     },
     "user_tz": -120
    },
    "id": "jx90Ez_cahkx",
    "outputId": "2e8e152b-4a55-4a66-c161-57ed3debdb72"
   },
   "outputs": [
    {
     "data": {
      "text/html": [
       "<div>\n",
       "<style scoped>\n",
       "    .dataframe tbody tr th:only-of-type {\n",
       "        vertical-align: middle;\n",
       "    }\n",
       "\n",
       "    .dataframe tbody tr th {\n",
       "        vertical-align: top;\n",
       "    }\n",
       "\n",
       "    .dataframe thead th {\n",
       "        text-align: right;\n",
       "    }\n",
       "</style>\n",
       "<table border=\"1\" class=\"dataframe\">\n",
       "  <thead>\n",
       "    <tr style=\"text-align: right;\">\n",
       "      <th></th>\n",
       "      <th>target</th>\n",
       "    </tr>\n",
       "  </thead>\n",
       "  <tbody>\n",
       "    <tr>\n",
       "      <th>0</th>\n",
       "      <td>1</td>\n",
       "    </tr>\n",
       "    <tr>\n",
       "      <th>1</th>\n",
       "      <td>1</td>\n",
       "    </tr>\n",
       "    <tr>\n",
       "      <th>2</th>\n",
       "      <td>1</td>\n",
       "    </tr>\n",
       "    <tr>\n",
       "      <th>3</th>\n",
       "      <td>1</td>\n",
       "    </tr>\n",
       "    <tr>\n",
       "      <th>4</th>\n",
       "      <td>1</td>\n",
       "    </tr>\n",
       "    <tr>\n",
       "      <th>...</th>\n",
       "      <td>...</td>\n",
       "    </tr>\n",
       "    <tr>\n",
       "      <th>1305</th>\n",
       "      <td>1</td>\n",
       "    </tr>\n",
       "    <tr>\n",
       "      <th>1306</th>\n",
       "      <td>1</td>\n",
       "    </tr>\n",
       "    <tr>\n",
       "      <th>1307</th>\n",
       "      <td>1</td>\n",
       "    </tr>\n",
       "    <tr>\n",
       "      <th>1308</th>\n",
       "      <td>1</td>\n",
       "    </tr>\n",
       "    <tr>\n",
       "      <th>1309</th>\n",
       "      <td>1</td>\n",
       "    </tr>\n",
       "  </tbody>\n",
       "</table>\n",
       "<p>1310 rows × 1 columns</p>\n",
       "</div>"
      ],
      "text/plain": [
       "      target\n",
       "0          1\n",
       "1          1\n",
       "2          1\n",
       "3          1\n",
       "4          1\n",
       "...      ...\n",
       "1305       1\n",
       "1306       1\n",
       "1307       1\n",
       "1308       1\n",
       "1309       1\n",
       "\n",
       "[1310 rows x 1 columns]"
      ]
     },
     "execution_count": 19,
     "metadata": {},
     "output_type": "execute_result"
    }
   ],
   "source": [
    "targetsignal= pd.DataFrame(columns=['target'], index=range(len(presignal)))\n",
    "\n",
    "targetsignal['target']=1\n",
    "targetsignal"
   ]
  },
  {
   "cell_type": "code",
   "execution_count": 20,
   "metadata": {
    "colab": {
     "base_uri": "https://localhost:8080/",
     "height": 406
    },
    "colab_type": "code",
    "executionInfo": {
     "elapsed": 1214,
     "status": "ok",
     "timestamp": 1575540450163,
     "user": {
      "displayName": "阮熙峰",
      "photoUrl": "https://lh3.googleusercontent.com/a-/AAuE7mD85QBmunE7h4axv5gV6qvGRZAbaG2Wns44spqY=s64",
      "userId": "17399476974750092519"
     },
     "user_tz": -120
    },
    "id": "dmSVzWLObA1f",
    "outputId": "1ebfaa6c-4145-4e56-d88e-718be783526b"
   },
   "outputs": [
    {
     "data": {
      "text/html": [
       "<div>\n",
       "<style scoped>\n",
       "    .dataframe tbody tr th:only-of-type {\n",
       "        vertical-align: middle;\n",
       "    }\n",
       "\n",
       "    .dataframe tbody tr th {\n",
       "        vertical-align: top;\n",
       "    }\n",
       "\n",
       "    .dataframe thead th {\n",
       "        text-align: right;\n",
       "    }\n",
       "</style>\n",
       "<table border=\"1\" class=\"dataframe\">\n",
       "  <thead>\n",
       "    <tr style=\"text-align: right;\">\n",
       "      <th></th>\n",
       "      <th>target</th>\n",
       "    </tr>\n",
       "  </thead>\n",
       "  <tbody>\n",
       "    <tr>\n",
       "      <th>0</th>\n",
       "      <td>0</td>\n",
       "    </tr>\n",
       "    <tr>\n",
       "      <th>1</th>\n",
       "      <td>0</td>\n",
       "    </tr>\n",
       "    <tr>\n",
       "      <th>2</th>\n",
       "      <td>0</td>\n",
       "    </tr>\n",
       "    <tr>\n",
       "      <th>3</th>\n",
       "      <td>0</td>\n",
       "    </tr>\n",
       "    <tr>\n",
       "      <th>4</th>\n",
       "      <td>0</td>\n",
       "    </tr>\n",
       "    <tr>\n",
       "      <th>...</th>\n",
       "      <td>...</td>\n",
       "    </tr>\n",
       "    <tr>\n",
       "      <th>16356</th>\n",
       "      <td>0</td>\n",
       "    </tr>\n",
       "    <tr>\n",
       "      <th>16357</th>\n",
       "      <td>0</td>\n",
       "    </tr>\n",
       "    <tr>\n",
       "      <th>16358</th>\n",
       "      <td>0</td>\n",
       "    </tr>\n",
       "    <tr>\n",
       "      <th>16359</th>\n",
       "      <td>0</td>\n",
       "    </tr>\n",
       "    <tr>\n",
       "      <th>16360</th>\n",
       "      <td>0</td>\n",
       "    </tr>\n",
       "  </tbody>\n",
       "</table>\n",
       "<p>16361 rows × 1 columns</p>\n",
       "</div>"
      ],
      "text/plain": [
       "       target\n",
       "0           0\n",
       "1           0\n",
       "2           0\n",
       "3           0\n",
       "4           0\n",
       "...       ...\n",
       "16356       0\n",
       "16357       0\n",
       "16358       0\n",
       "16359       0\n",
       "16360       0\n",
       "\n",
       "[16361 rows x 1 columns]"
      ]
     },
     "execution_count": 20,
     "metadata": {},
     "output_type": "execute_result"
    }
   ],
   "source": [
    "targetbackground= pd.DataFrame(columns=['target'], index=range(len(prebackground)))\n",
    "\n",
    "targetbackground['target']=0\n",
    "targetbackground"
   ]
  },
  {
   "cell_type": "markdown",
   "metadata": {},
   "source": [
    "Now we merge the signal & background dataset to 1 dataset, they will be differentiated by the column \"Target\".\n",
    "Then we split the dataset to train and test dataset. Train data set is used to fit/setup the ML classifier. Test dataset is used to valid the training and to examine the overfitting/overtraining."
   ]
  },
  {
   "cell_type": "code",
   "execution_count": 21,
   "metadata": {
    "colab": {},
    "colab_type": "code",
    "id": "FNSHipSUhDg_"
   },
   "outputs": [],
   "source": [
    "from sklearn import preprocessing\n",
    "\n",
    "# Join and Shuffle samples\n",
    "#feature -data1  target -target\n",
    "data1 = pd.concat([presignal,prebackground],axis=0)\n",
    "target = pd.concat([targetsignal,targetbackground],axis=0)\n",
    "data1.reset_index(inplace=True, drop=True)\n",
    "target.reset_index(inplace=True, drop=True)\n",
    "\n",
    "#data1 = shuffle(data1)\n",
    "\n",
    "# Train_Test Split\n",
    "\n",
    "data_train1, data_test1, target_train1, target_test1 = train_test_split(data1, target, \n",
    "              stratify=target,random_state=11, test_size=0.50)\n",
    "\n",
    "\n",
    "\n",
    "# Convert data to numpy arrays\n",
    "np_data_train1 = data_train1.values\n",
    "np_data_test1 = data_test1.values\n",
    "np_target_train1 = target_train1.values\n",
    "np_target_test1 = target_test1.values\n"
   ]
  },
  {
   "cell_type": "code",
   "execution_count": 22,
   "metadata": {
    "colab": {
     "base_uri": "https://localhost:8080/",
     "height": 34
    },
    "colab_type": "code",
    "executionInfo": {
     "elapsed": 1025,
     "status": "ok",
     "timestamp": 1575532487281,
     "user": {
      "displayName": "阮熙峰",
      "photoUrl": "https://lh3.googleusercontent.com/a-/AAuE7mD85QBmunE7h4axv5gV6qvGRZAbaG2Wns44spqY=s64",
      "userId": "17399476974750092519"
     },
     "user_tz": -120
    },
    "id": "LLNqH3gle5zW",
    "outputId": "799cab9e-c333-405d-9136-086905521985"
   },
   "outputs": [
    {
     "data": {
      "text/plain": [
       "((8835, 7), (8836, 7), (8835, 1), (8836, 1))"
      ]
     },
     "execution_count": 22,
     "metadata": {},
     "output_type": "execute_result"
    }
   ],
   "source": [
    "data_train1.shape, data_test1.shape, target_train1.shape, target_test1.shape"
   ]
  },
  {
   "cell_type": "markdown",
   "metadata": {
    "colab_type": "text",
    "id": "DTiX666tfZeO"
   },
   "source": [
    "## <font color=blue>Train models</font>\n",
    "We train the same random forest classifer but with different N Trees and depthm, see what is the difference\n",
    "A deep neural net method (Multi-layer perceptron, MLP) is used for comparison"
   ]
  },
  {
   "cell_type": "code",
   "execution_count": 23,
   "metadata": {
    "colab": {
     "base_uri": "https://localhost:8080/",
     "height": 427
    },
    "colab_type": "code",
    "executionInfo": {
     "elapsed": 3822410,
     "status": "ok",
     "timestamp": 1575544528147,
     "user": {
      "displayName": "阮熙峰",
      "photoUrl": "https://lh3.googleusercontent.com/a-/AAuE7mD85QBmunE7h4axv5gV6qvGRZAbaG2Wns44spqY=s64",
      "userId": "17399476974750092519"
     },
     "user_tz": -120
    },
    "id": "u3T10qp7fYY8",
    "outputId": "615bbec2-7284-46ae-aca7-5df2ccf24b77"
   },
   "outputs": [
    {
     "name": "stdout",
     "output_type": "stream",
     "text": [
      "CPU times: user 4.09 s, sys: 47.9 ms, total: 4.14 s\n",
      "Wall time: 4.28 s\n",
      "CPU times: user 210 ms, sys: 2.73 ms, total: 213 ms\n",
      "Wall time: 221 ms\n",
      "CPU times: user 15.7 s, sys: 254 ms, total: 16 s\n",
      "Wall time: 17.8 s\n",
      "Iteration 1, loss = 6.59284172\n",
      "Iteration 2, loss = 1.72122394\n",
      "Iteration 3, loss = 1.00663583\n",
      "Iteration 4, loss = 1.76498282\n",
      "Iteration 5, loss = 1.53452239\n",
      "Iteration 6, loss = 1.53661860\n",
      "Iteration 7, loss = 1.05310325\n",
      "Iteration 8, loss = 1.89046778\n",
      "Iteration 9, loss = 1.01488051\n",
      "Iteration 10, loss = 1.17305705\n",
      "Iteration 11, loss = 1.71929522\n",
      "Iteration 12, loss = 0.78130931\n",
      "Iteration 13, loss = 0.67367312\n",
      "Iteration 14, loss = 2.06787863\n",
      "Iteration 15, loss = 1.61958288\n",
      "Iteration 16, loss = 1.71022905\n",
      "Iteration 17, loss = 0.98851466\n",
      "Iteration 18, loss = 0.38621874\n",
      "Iteration 19, loss = 1.43277194\n",
      "Iteration 20, loss = 2.34775968\n",
      "Iteration 21, loss = 1.42035095\n",
      "Iteration 22, loss = 2.04219873\n",
      "Iteration 23, loss = 1.86128469\n",
      "Iteration 24, loss = 1.92588003\n",
      "Iteration 25, loss = 1.42689383\n",
      "Iteration 26, loss = 0.88452089\n",
      "Iteration 27, loss = 0.65681777\n",
      "Iteration 28, loss = 0.53003360\n",
      "Iteration 29, loss = 0.51847252\n",
      "Training loss did not improve more than tol=0.000100 for 10 consecutive epochs. Stopping.\n",
      "CPU times: user 2.06 s, sys: 55.5 ms, total: 2.12 s\n",
      "Wall time: 1.25 s\n"
     ]
    },
    {
     "data": {
      "text/plain": [
       "MLPClassifier(hidden_layer_sizes=(30, 30, 30), random_state=1, verbose=True)"
      ]
     },
     "execution_count": 23,
     "metadata": {},
     "output_type": "execute_result"
    }
   ],
   "source": [
    "from sklearn.ensemble import GradientBoostingClassifier\n",
    "from sklearn.metrics import classification_report,accuracy_score,confusion_matrix, roc_curve, auc\n",
    "from sklearn.neural_network import MLPRegressor\n",
    "from sklearn.neural_network import MLPClassifier\n",
    "\n",
    "gb_clf1 = GradientBoostingClassifier(n_estimators=400, learning_rate=0.1,\n",
    "                          max_depth=2,random_state=10, loss='deviance')\n",
    "%time gb_clf1.fit(data_train1, target_train1.values.ravel()) \n",
    "\n",
    "gb_clf2 = GradientBoostingClassifier(n_estimators=20, learning_rate=0.1,\n",
    "                          max_depth=2,random_state=10, loss='deviance')\n",
    "%time gb_clf2.fit(data_train1, target_train1.values.ravel()) \n",
    "\n",
    "gb_clf3 = GradientBoostingClassifier(n_estimators=800, learning_rate=0.1,\n",
    "                          max_depth=4,random_state=10, loss='deviance')\n",
    "%time gb_clf3.fit(data_train1, target_train1.values.ravel()) \n",
    "\n",
    "#To compare with an MLP (DNN) \n",
    "mlp_clf = MLPClassifier(hidden_layer_sizes=(30,30,30),activation=\"relu\",random_state=1,verbose=True)\n",
    "\n",
    "%time mlp_clf.fit(data_train1, target_train1.values.ravel())\n",
    "\n",
    "\n",
    "\n"
   ]
  },
  {
   "cell_type": "code",
   "execution_count": 24,
   "metadata": {
    "colab": {},
    "colab_type": "code",
    "id": "wCqxr4ThxWoW"
   },
   "outputs": [],
   "source": [
    "\n",
    "def response(label, pred):\n",
    "    tsig = []\n",
    "    tbkg = []\n",
    "    for i in range(len(label)):\n",
    "        if(label[i] == 1.0):\n",
    "            tsig.append(pred[i])\n",
    "        elif(label[i] == 0.0):\n",
    "            tbkg.append(pred[i])\n",
    "            \n",
    "    return tsig, tbkg\n",
    "   #giving each dataset (test, training) a score from different classifier \n",
    "pred_probabilities1 = gb_clf1.predict_proba(data_test1)[:,1]\n",
    "pred_probabilities2 = gb_clf2.predict_proba(data_test1)[:,1]\n",
    "pred_probabilities3 = gb_clf3.predict_proba(data_test1)[:,1]\n",
    "pred_probabilitiesMLP = mlp_clf.predict_proba(data_test1)[:,1]\n",
    "\n",
    "signal1_test, background1_test = response(np_target_test1, pred_probabilities1)\n",
    "signal2_test, background2_test = response(np_target_test1, pred_probabilities2)\n",
    "signal3_test, background3_test = response(np_target_test1, pred_probabilities3)\n",
    "signalMLP_test, backgroundMLP_test = response(np_target_test1, pred_probabilitiesMLP)\n",
    "\n",
    "\n",
    "pred_probabilities1train = gb_clf1.predict_proba(data_train1)[:,1]\n",
    "pred_probabilities2train = gb_clf2.predict_proba(data_train1)[:,1]\n",
    "pred_probabilities3train = gb_clf3.predict_proba(data_train1)[:,1]\n",
    "pred_probabilitiesMLPtrain = mlp_clf.predict_proba(data_train1)[:,1]\n",
    "\n",
    "#the evaluation of each event from three different classifer\n",
    "\n",
    "signal1_train, background1_train = response(np_target_train1, pred_probabilities1train)\n",
    "signal2_train, background2_train = response(np_target_train1, pred_probabilities2train)\n",
    "signal3_train, background3_train = response(np_target_train1, pred_probabilities3train)\n",
    "signalMLP_train, backgroundMLP_train = response(np_target_train1, pred_probabilitiesMLPtrain)\n",
    "\n",
    "\n"
   ]
  },
  {
   "cell_type": "markdown",
   "metadata": {
    "colab_type": "text",
    "id": "ATPSccm0keYU"
   },
   "source": [
    "## <font color=blue>Look at the BDT and MLP output score</font>"
   ]
  },
  {
   "cell_type": "code",
   "execution_count": 25,
   "metadata": {
    "colab": {
     "base_uri": "https://localhost:8080/",
     "height": 803
    },
    "colab_type": "code",
    "executionInfo": {
     "elapsed": 3465,
     "status": "ok",
     "timestamp": 1575532941125,
     "user": {
      "displayName": "阮熙峰",
      "photoUrl": "https://lh3.googleusercontent.com/a-/AAuE7mD85QBmunE7h4axv5gV6qvGRZAbaG2Wns44spqY=s64",
      "userId": "17399476974750092519"
     },
     "user_tz": -120
    },
    "id": "RlLr5ExHkXpA",
    "outputId": "be21cfae-34c2-44ef-e271-4559baa888b6"
   },
   "outputs": [
    {
     "data": {
      "image/png": "[encoded data removed]",
      "text/plain": [
       "<Figure size 432x288 with 1 Axes>"
      ]
     },
     "metadata": {
      "needs_background": "light"
     },
     "output_type": "display_data"
    },
    {
     "data": {
      "image/png": "[encoded data removed]",
      "text/plain": [
       "<Figure size 432x288 with 1 Axes>"
      ]
     },
     "metadata": {
      "needs_background": "light"
     },
     "output_type": "display_data"
    },
    {
     "data": {
      "image/png": "[encoded data removed]",
      "text/plain": [
       "<Figure size 432x288 with 1 Axes>"
      ]
     },
     "metadata": {
      "needs_background": "light"
     },
     "output_type": "display_data"
    },
    {
     "data": {
      "image/png": "[encoded data removed]",
      "text/plain": [
       "<Figure size 432x288 with 1 Axes>"
      ]
     },
     "metadata": {
      "needs_background": "light"
     },
     "output_type": "display_data"
    }
   ],
   "source": [
    "\n",
    "\n",
    "plt.figure()    \n",
    "plt.hist(signal1_test, bins=60, color='blue', label='signal',\n",
    "          alpha=.7, density=True)\n",
    "plt.hist(background1_test, bins=60, color='red', label='background',\n",
    "         alpha=.6, density=True)\n",
    "plt.legend(loc='upper right', frameon=False)\n",
    "plt.ylabel('Events (Normed)')\n",
    "plt.xlabel('BDT Output')\n",
    "#plt.yscale('log')\n",
    "plt.savefig('BDT_Output_Val1.png')\n",
    "\n",
    "plt.figure()    \n",
    "plt.hist(signal2_test, bins=60, color='blue', label='signal',\n",
    "          alpha=.7, density=True)\n",
    "plt.hist(background2_test, bins=60, color='red', label='background',\n",
    "         alpha=.6, density=True)\n",
    "plt.legend(loc='upper right', frameon=False)\n",
    "plt.ylabel('Events (Normed)')\n",
    "plt.xlabel('BDT Output')\n",
    "#plt.yscale('log')\n",
    "plt.savefig('BDT_Output_Val2.png')\n",
    "\n",
    "plt.figure()    \n",
    "plt.hist(signal3_test, bins=60, color='blue', label='signal',\n",
    "          alpha=.7, density=True)\n",
    "plt.hist(background3_test, bins=60, color='red', label='background',\n",
    "         alpha=.6, density=True)\n",
    "plt.legend(loc='upper right', frameon=False)\n",
    "plt.ylabel('Events (Normed)')\n",
    "plt.xlabel('BDT Output')\n",
    "#plt.yscale('log')\n",
    "plt.savefig('BDT_Output_Val3.png')\n",
    "\n",
    "plt.figure()    \n",
    "plt.hist(signalMLP_test, bins=60, color='blue', label='signal',\n",
    "          alpha=.7, density=True)\n",
    "plt.hist(backgroundMLP_test, bins=60, color='red', label='background',\n",
    "         alpha=.6, density=True)\n",
    "plt.legend(loc='upper right', frameon=False)\n",
    "plt.ylabel('Events (Normed)')\n",
    "plt.xlabel('MLP Output')\n",
    "#plt.yscale('log')\n",
    "plt.savefig('BDT_Output_ValMLP.png')\n"
   ]
  },
  {
   "cell_type": "markdown",
   "metadata": {
    "colab_type": "text",
    "id": "ALDm_LKLp5ny"
   },
   "source": [
    "Here we look at for the signal and background, how are their BDT scores. It seems they are well separated."
   ]
  },
  {
   "cell_type": "markdown",
   "metadata": {
    "colab_type": "text",
    "id": "MCog9v0XqPv2"
   },
   "source": [
    "Do the same thing for the training, compare the training with test"
   ]
  },
  {
   "cell_type": "code",
   "execution_count": 26,
   "metadata": {
    "colab": {
     "base_uri": "https://localhost:8080/",
     "height": 1000
    },
    "colab_type": "code",
    "executionInfo": {
     "elapsed": 5220,
     "status": "ok",
     "timestamp": 1575532969395,
     "user": {
      "displayName": "阮熙峰",
      "photoUrl": "https://lh3.googleusercontent.com/a-/AAuE7mD85QBmunE7h4axv5gV6qvGRZAbaG2Wns44spqY=s64",
      "userId": "17399476974750092519"
     },
     "user_tz": -120
    },
    "id": "6XVVnLsfqDvI",
    "outputId": "a726041e-0f9e-47b6-cb15-f8f4ac56449c"
   },
   "outputs": [
    {
     "data": {
      "image/png": "[encoded data removed]",
      "text/plain": [
       "<Figure size 432x288 with 1 Axes>"
      ]
     },
     "metadata": {
      "needs_background": "light"
     },
     "output_type": "display_data"
    },
    {
     "data": {
      "image/png": "[encoded data removed]",
      "text/plain": [
       "<Figure size 432x288 with 1 Axes>"
      ]
     },
     "metadata": {
      "needs_background": "light"
     },
     "output_type": "display_data"
    },
    {
     "data": {
      "image/png": "[encoded data removed]",
      "text/plain": [
       "<Figure size 432x288 with 1 Axes>"
      ]
     },
     "metadata": {
      "needs_background": "light"
     },
     "output_type": "display_data"
    },
    {
     "data": {
      "image/png": "[encoded data removed]",
      "text/plain": [
       "<Figure size 432x288 with 1 Axes>"
      ]
     },
     "metadata": {
      "needs_background": "light"
     },
     "output_type": "display_data"
    },
    {
     "data": {
      "image/png": "[encoded data removed]",
      "text/plain": [
       "<Figure size 432x288 with 1 Axes>"
      ]
     },
     "metadata": {
      "needs_background": "light"
     },
     "output_type": "display_data"
    },
    {
     "data": {
      "image/png": "[encoded data removed]",
      "text/plain": [
       "<Figure size 432x288 with 1 Axes>"
      ]
     },
     "metadata": {
      "needs_background": "light"
     },
     "output_type": "display_data"
    },
    {
     "data": {
      "image/png": "[encoded data removed]",
      "text/plain": [
       "<Figure size 432x288 with 1 Axes>"
      ]
     },
     "metadata": {
      "needs_background": "light"
     },
     "output_type": "display_data"
    },
    {
     "data": {
      "image/png": "[encoded data removed]",
      "text/plain": [
       "<Figure size 432x288 with 1 Axes>"
      ]
     },
     "metadata": {
      "needs_background": "light"
     },
     "output_type": "display_data"
    }
   ],
   "source": [
    "\n",
    "\n",
    "plt.figure()     \n",
    "plt.hist(signal1_test, bins=60, color='green', label='Test Signal1',\n",
    "          alpha=.7, density=True)\n",
    "plt.hist(signal1_train, bins=60, color='blue', label='Train Signal1',\n",
    "         alpha=.6, density=True)\n",
    "plt.legend(loc='upper right', frameon=False)\n",
    "plt.ylabel('Events (Normed)')\n",
    "plt.xlabel('BDT Output')\n",
    "#plt.yscale('log')\n",
    "plt.savefig('BDT_Output_sig1.png')\n",
    "plt.figure()     \n",
    "plt.hist(background1_test, bins=60, color='green', label='Test Background1',\n",
    "          alpha=.7, density=True)\n",
    "plt.hist(background1_train, bins=60, color='blue', label='Train Background1',\n",
    "         alpha=.6, density=True)\n",
    "plt.legend(loc='upper right', frameon=False)\n",
    "plt.ylabel('Events (Normed)')\n",
    "plt.xlabel('BDT Output')\n",
    "#plt.yscale('log')\n",
    "plt.savefig('BDT_Output_bkg1.png')\n",
    "####################\n",
    "plt.figure()     \n",
    "plt.hist(signal2_test, bins=60, color='green', label='Test Signal2',\n",
    "          alpha=.7, density=True)\n",
    "plt.hist(signal2_train, bins=60, color='blue', label='Train Signal2',\n",
    "         alpha=.6, density=True)\n",
    "plt.legend(loc='upper right', frameon=False)\n",
    "plt.ylabel('Events (Normed)')\n",
    "plt.xlabel('BDT Output')\n",
    "#plt.yscale('log')\n",
    "plt.savefig('BDT_Output_sig2.png')\n",
    "plt.figure()     \n",
    "plt.hist(background2_test, bins=60, color='green', label='Test Background2',\n",
    "          alpha=.7, density=True)\n",
    "plt.hist(background2_train, bins=60, color='blue', label='Train Background2',\n",
    "         alpha=.6, density=True)\n",
    "plt.legend(loc='upper right', frameon=False)\n",
    "plt.ylabel('Events (Normed)')\n",
    "plt.xlabel('BDT Output')\n",
    "#plt.yscale('log')\n",
    "plt.savefig('BDT_Output_bkg2.png')\n",
    "######################\n",
    "plt.figure()     \n",
    "plt.hist(signal3_test, bins=60, color='green', label='Test Signal3',\n",
    "          alpha=.7, density=True)\n",
    "plt.hist(signal3_train, bins=60, color='blue', label='Train Signal3',\n",
    "         alpha=.6, density=True)\n",
    "plt.legend(loc='upper right', frameon=False)\n",
    "plt.ylabel('Events (Normed)')\n",
    "plt.xlabel('BDT Output')\n",
    "#plt.yscale('log')\n",
    "plt.savefig('BDT_Output_sig3.png')\n",
    "plt.figure()     \n",
    "plt.hist(background3_test, bins=60, color='green', label='Test Background3',\n",
    "          alpha=.7, density=True)\n",
    "plt.hist(background3_train, bins=60, color='blue', label='Train Background3',\n",
    "         alpha=.6, density=True)\n",
    "plt.legend(loc='upper right', frameon=False)\n",
    "plt.ylabel('Events (Normed)')\n",
    "plt.xlabel('BDT Output')\n",
    "#plt.yscale('log')\n",
    "plt.savefig('BDT_Output_bkg3.png')\n",
    "######################\n",
    "plt.figure()     \n",
    "plt.hist(signalMLP_test, bins=60, color='green', label='Test SignalMLP',\n",
    "          alpha=.7, density=True)\n",
    "plt.hist(signalMLP_train, bins=60, color='blue', label='Train SignalMLP',\n",
    "         alpha=.6, density=True)\n",
    "plt.legend(loc='upper right', frameon=False)\n",
    "plt.ylabel('Events (Normed)')\n",
    "plt.xlabel('MLP Output')\n",
    "#plt.yscale('log')\n",
    "plt.savefig('MLP_Output_sigMLP.png')\n",
    "\n",
    "plt.figure()     \n",
    "plt.hist(backgroundMLP_test, bins=60, color='green', label='Test BackgroundMLP',\n",
    "          alpha=.7, density=True)\n",
    "plt.hist(backgroundMLP_train, bins=60, color='blue', label='Train BackgroundMLP',\n",
    "         alpha=.6, density=True)\n",
    "plt.legend(loc='upper right', frameon=False)\n",
    "plt.ylabel('Events (Normed)')\n",
    "plt.xlabel('MLP Output')\n",
    "#plt.yscale('log')\n",
    "plt.savefig('MLP_Output_bkgMLP.png')\n"
   ]
  },
  {
   "cell_type": "code",
   "execution_count": 27,
   "metadata": {
    "colab": {
     "base_uri": "https://localhost:8080/",
     "height": 119
    },
    "colab_type": "code",
    "executionInfo": {
     "elapsed": 1763,
     "status": "ok",
     "timestamp": 1575533037498,
     "user": {
      "displayName": "阮熙峰",
      "photoUrl": "https://lh3.googleusercontent.com/a-/AAuE7mD85QBmunE7h4axv5gV6qvGRZAbaG2Wns44spqY=s64",
      "userId": "17399476974750092519"
     },
     "user_tz": -120
    },
    "id": "f1CiRpVLgG-T",
    "jupyter": {
     "source_hidden": true
    },
    "outputId": "e03edf55-3e36-4e38-becf-118724aefc75",
    "tags": []
   },
   "outputs": [
    {
     "name": "stdout",
     "output_type": "stream",
     "text": [
      "Accuracy score (training): 0.965\n",
      "Accuracy score (validation): 0.951\n",
      "Confusion Matrix:\n",
      "[[8072  109]\n",
      " [ 328  327]]\n",
      "\n"
     ]
    }
   ],
   "source": [
    "#for a given cut, label the test / train sample as measured signal or background\n",
    "data_test_pred1 = gb_clf1.predict(data_test1)\n",
    "data_train_pred1 = gb_clf1.predict(data_train1)\n",
    "\n",
    "print(\"Accuracy score (training): {0:.3f}\".format(gb_clf1.score(data_train1, target_train1)))\n",
    "print(\"Accuracy score (validation): {0:.3f}\".format(gb_clf1.score(data_test1, target_test1)))\n",
    "print(\"Confusion Matrix:\")\n",
    "print(confusion_matrix(target_test1, data_test_pred1))\n",
    "print()\n",
    "#print(\"Classification Report\")\n",
    "#print(classification_report(target_test1, data_test_pred1))\n",
    "\n"
   ]
  },
  {
   "cell_type": "markdown",
   "metadata": {
    "colab_type": "text",
    "id": "GJJ34fHijXRV"
   },
   "source": [
    "## <font color=blue> ROC </font>"
   ]
  },
  {
   "cell_type": "code",
   "execution_count": 28,
   "metadata": {
    "colab": {
     "base_uri": "https://localhost:8080/",
     "height": 296
    },
    "colab_type": "code",
    "executionInfo": {
     "elapsed": 2378,
     "status": "ok",
     "timestamp": 1575533045652,
     "user": {
      "displayName": "阮熙峰",
      "photoUrl": "https://lh3.googleusercontent.com/a-/AAuE7mD85QBmunE7h4axv5gV6qvGRZAbaG2Wns44spqY=s64",
      "userId": "17399476974750092519"
     },
     "user_tz": -120
    },
    "id": "wELHigr5iA4y",
    "outputId": "cf725040-8087-4b0e-cf39-241bfe4bd4aa"
   },
   "outputs": [
    {
     "data": {
      "text/plain": [
       "<Figure size 144x144 with 0 Axes>"
      ]
     },
     "metadata": {},
     "output_type": "display_data"
    },
    {
     "data": {
      "image/png": "[encoded data removed]",
      "text/plain": [
       "<Figure size 432x288 with 1 Axes>"
      ]
     },
     "metadata": {},
     "output_type": "display_data"
    }
   ],
   "source": [
    "#receiver operating characteristic curve\n",
    "from sklearn.metrics import roc_curve\n",
    "from sklearn.metrics import auc\n",
    "\n",
    "fpr1, tpr1, thresholds = roc_curve(target_test1, pred_probabilities1)\n",
    "auc1 = auc(fpr1,tpr1)\n",
    "\n",
    "pred_probabilities2 = gb_clf2.predict_proba(data_test1)[:,1]\n",
    "fpr2, tpr2, thresholds = roc_curve(target_test1, pred_probabilities2)\n",
    "auc2 = auc(fpr2,tpr2)\n",
    "\n",
    "pred_probabilities3 = gb_clf3.predict_proba(data_test1)[:,1]\n",
    "fpr3, tpr3, thresholds = roc_curve(target_test1, pred_probabilities3)\n",
    "auc3 = auc(fpr3,tpr3)\n",
    "\n",
    "pred_probabilitiesMLP = mlp_clf.predict_proba(data_test1)[:,1]\n",
    "fprMLP, tprMLP, thresholds = roc_curve(target_test1, pred_probabilitiesMLP)\n",
    "aucMLP = auc(fprMLP,tprMLP)\n",
    "\n",
    "plt.figure(figsize=(2,2))\n",
    "plt.figure(facecolor=\"white\")\n",
    "plt.plot([0, 1], [1, 0], 'k-',label='No Improvement')\n",
    "plt.plot(1-fpr1, tpr1,color='blue')\n",
    "plt.plot(1-fpr2, tpr2,color='red')\n",
    "plt.plot(1-fpr3, tpr3,color='purple')\n",
    "plt.plot(1-fprMLP, tprMLP,color='yellow')\n",
    "\n",
    "\n",
    "plt.ylabel('Background Rejection')\n",
    "plt.xlabel('Signal Efficiency')\n",
    "plt.xlim([0.0,1.05])\n",
    "plt.ylim([0.0,1.02])\n",
    "plt.xticks(np.arange(0,1.05,0.1))\n",
    "plt.yticks(np.arange(0,1.05,0.1))\n",
    "plt.legend(['No Cut',' BDT (400,2) (auc = %0.3f)'%auc1,' BDT (20,2) (auc = %0.3f)'%auc2,' BDT (800, 4) (auc = %0.3f)'%auc3, ' MLP (auc = %0.3f)'%aucMLP], frameon=False, loc='lower left')\n",
    "plt.grid()\n",
    "plt.savefig('ROC.png')"
   ]
  },
  {
   "cell_type": "markdown",
   "metadata": {
    "colab_type": "text",
    "id": "wMQhLMHluWNI"
   },
   "source": [
    "ROC curve is a tool to reflect which classifer is better, like the larger the AUC or the curve to the top right is better"
   ]
  },
  {
   "cell_type": "markdown",
   "metadata": {
    "colab_type": "text",
    "id": "W2kYcAKFhLtP"
   },
   "source": [
    "## <font color=blue>Tune Model Hyperparameters</font>"
   ]
  },
  {
   "cell_type": "markdown",
   "metadata": {
    "colab_type": "text",
    "id": "qt8Y6q98q83A"
   },
   "source": [
    "##### Before training we need to find hyperparameters that give the best model configuration through a process called hyperparameter tuning. We do this by fitting the model with different combinations of hyperparameters. Often, this process takes quite a long time, however, it depends on the number of hyperparameters you want to tune. For our purposes, we will demonstrate this using a function called GridSearch in scikit-learn."
   ]
  },
  {
   "cell_type": "markdown",
   "metadata": {
    "colab_type": "text",
    "id": "qt8Y6q98q83A"
   },
   "source": [
    "# THe wuckk"
   ]
  },
  {
   "cell_type": "code",
   "execution_count": 1,
   "metadata": {
    "colab": {
     "base_uri": "https://localhost:8080/",
     "height": 122
    },
    "colab_type": "code",
    "executionInfo": {
     "elapsed": 900529,
     "status": "ok",
     "timestamp": 1575533950631,
     "user": {
      "displayName": "阮熙峰",
      "photoUrl": "https://lh3.googleusercontent.com/a-/AAuE7mD85QBmunE7h4axv5gV6qvGRZAbaG2Wns44spqY=s64",
      "userId": "17399476974750092519"
     },
     "user_tz": -120
    },
    "id": "oFRy1kY0hNY-",
    "outputId": "61ab549c-98b4-469e-ab6f-22ce99670ea4"
   },
   "outputs": [
    {
     "ename": "NameError",
     "evalue": "name 'np' is not defined",
     "output_type": "error",
     "traceback": [
      "\u001b[0;31m---------------------------------------------------------------------------\u001b[0m",
      "\u001b[0;31mNameError\u001b[0m                                 Traceback (most recent call last)",
      "\u001b[0;32m<ipython-input-1-9f672c57d13c>\u001b[0m in \u001b[0;36m<module>\u001b[0;34m\u001b[0m\n\u001b[1;32m      2\u001b[0m \u001b[0;32mfrom\u001b[0m \u001b[0msklearn\u001b[0m\u001b[0;34m.\u001b[0m\u001b[0mmodel_selection\u001b[0m \u001b[0;32mimport\u001b[0m \u001b[0mGridSearchCV\u001b[0m\u001b[0;34m\u001b[0m\u001b[0;34m\u001b[0m\u001b[0m\n\u001b[1;32m      3\u001b[0m \u001b[0;34m\u001b[0m\u001b[0m\n\u001b[0;32m----> 4\u001b[0;31m param_grid = [{'n_estimators': np.arange(200,1000,400),\n\u001b[0m\u001b[1;32m      5\u001b[0m               \u001b[0;34m'learning_rate'\u001b[0m\u001b[0;34m:\u001b[0m \u001b[0mnp\u001b[0m\u001b[0;34m.\u001b[0m\u001b[0marange\u001b[0m\u001b[0;34m(\u001b[0m\u001b[0;36m0.01\u001b[0m\u001b[0;34m,\u001b[0m\u001b[0;36m0.5\u001b[0m\u001b[0;34m,\u001b[0m\u001b[0;36m0.1\u001b[0m\u001b[0;34m)\u001b[0m\u001b[0;34m,\u001b[0m\u001b[0;34m\u001b[0m\u001b[0;34m\u001b[0m\u001b[0m\n\u001b[1;32m      6\u001b[0m               'max_depth': np.arange(1,3)}]\n",
      "\u001b[0;31mNameError\u001b[0m: name 'np' is not defined"
     ]
    }
   ],
   "source": [
    "# Perform GridSearch\n",
    "from sklearn.model_selection import GridSearchCV\n",
    "\n",
    "param_grid = [{'n_estimators': np.arange(200,1000,400),\n",
    "              'learning_rate': np.arange(0.01,0.5,0.1),\n",
    "              'max_depth': np.arange(1,3)}]\n",
    "\n",
    "grid_search = GridSearchCV(estimator=GradientBoostingClassifier(),\n",
    "                       param_grid=param_grid,\n",
    "                       refit=True,\n",
    "                       cv=3,\n",
    "                       scoring ='accuracy',\n",
    "                       n_jobs=-1)\n",
    "%time grid_search.fit(data_train1, target_train1.values.ravel()) \n",
    "best_score = grid_search.best_score_\n",
    "best_params = grid_search.best_params_\n",
    "#results=grid_search.cv_results_\n",
    "sorted(grid_search.cv_results_.keys())\n",
    "best_params, best_score\n",
    "print(grid_search.best_params_)"
   ]
  },
  {
   "cell_type": "code",
   "execution_count": 30,
   "metadata": {
    "colab": {
     "base_uri": "https://localhost:8080/",
     "height": 187
    },
    "colab_type": "code",
    "executionInfo": {
     "elapsed": 3312,
     "status": "ok",
     "timestamp": 1575535054991,
     "user": {
      "displayName": "阮熙峰",
      "photoUrl": "https://lh3.googleusercontent.com/a-/AAuE7mD85QBmunE7h4axv5gV6qvGRZAbaG2Wns44spqY=s64",
      "userId": "17399476974750092519"
     },
     "user_tz": -120
    },
    "id": "Y-Exv8z9LfrC",
    "outputId": "ca290624-89f6-4129-aa05-c30113696165"
   },
   "outputs": [
    {
     "data": {
      "text/plain": [
       "GradientBoostingClassifier(learning_rate=0.11, max_depth=2, n_estimators=200)"
      ]
     },
     "execution_count": 30,
     "metadata": {},
     "output_type": "execute_result"
    }
   ],
   "source": [
    "grid_search.best_estimator_"
   ]
  },
  {
   "cell_type": "code",
   "execution_count": null,
   "metadata": {},
   "outputs": [],
   "source": []
  }
 ],
 "metadata": {
  "colab": {
   "collapsed_sections": [],
   "name": "Copy of Supervised BDT.ipynb",
   "provenance": [
    {
     "file_id": "1F438Fm4rAU027GNJiqjJzkD7IhqRYn5R",
     "timestamp": 1575382484566
    }
   ]
  },
  "kernelspec": {
   "display_name": "Python 3 (ipykernel)",
   "language": "python",
   "name": "python3"
  },
  "language_info": {
   "codemirror_mode": {
    "name": "ipython",
    "version": 3
   },
   "file_extension": ".py",
   "mimetype": "text/x-python",
   "name": "python",
   "nbconvert_exporter": "python",
   "pygments_lexer": "ipython3",
   "version": "3.9.7"
  }
 },
 "nbformat": 4,
 "nbformat_minor": 4
}
